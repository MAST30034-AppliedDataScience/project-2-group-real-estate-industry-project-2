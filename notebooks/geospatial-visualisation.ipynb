{
 "cells": [
  {
   "cell_type": "markdown",
   "metadata": {},
   "source": [
    "# Geospatial Visualisation"
   ]
  },
  {
   "cell_type": "code",
   "execution_count": 6,
   "metadata": {},
   "outputs": [],
   "source": [
    "import pandas as pd\n",
    "import numpy as np\n",
    "import geopandas as gpd\n",
    "import matplotlib.pyplot as plt\n",
    "import seaborn as sns\n",
    "import contextily as ctx\n",
    "import folium\n",
    "\n",
    "import sys, os\n",
    "sys.path.append(os.path.abspath('../'))\n",
    "from scripts.utils import create_dir, get_runtime\n",
    "import time\n",
    "start_time = time.time()"
   ]
  },
  {
   "cell_type": "markdown",
   "metadata": {},
   "source": [
    "## Visualise Predictions"
   ]
  },
  {
   "cell_type": "code",
   "execution_count": 118,
   "metadata": {},
   "outputs": [],
   "source": [
    "# Function to plot interactive geospatial heatmap over OpenStreetMap using folium, allowing multiple columns and multiple basemap types\n",
    "def plot_geospatial(gdf, column, title, cmap, property_type, joining_column='suburb', custom_bins=None):\n",
    "    \"\"\" Plot an interactive heatmap using folium, overlaying on OpenStreetMap, with multiple columns and multiple basemap options, then save to HTML.\"\"\"\n",
    "\n",
    "\n",
    "    # Convert GeoDataFrame to WGS84 (lat/lon) if not already in that CRS\n",
    "    if gdf.crs != 'epsg:4326':\n",
    "        gdf = gdf.to_crs(epsg=4326)\n",
    "    # Create a folium map centered around Victoria, Australia, with the selected basemap type\n",
    "    m = folium.Map(location=[-37.8136, 144.9631], zoom_start=7, tiles='CartoDB positron')\n",
    "\n",
    "    folium.Choropleth(\n",
    "        geo_data=gdf,  # Use the GeoDataFrame with the geometry\n",
    "        name=f'{property_type} {title} - {column.replace(\"_\", \" \").title()}',\n",
    "        data=gdf,\n",
    "        columns=[joining_column, column],  # Column that contains the unique SA2 codes and the heatmap values\n",
    "        key_on=f'feature.properties.{joining_column}',  # Key to match the SA2 codes\n",
    "        fill_color=cmap,  # Color map\n",
    "        fill_opacity=0.7,\n",
    "        line_opacity=0.2,\n",
    "        legend_name=f'{title} (Scale) - {column.replace(\"_\", \" \").title()}',\n",
    "        bins = custom_bins if custom_bins else 4,\n",
    "    ).add_to(m)\n",
    "\n",
    "    # Save the map to an HTML file\n",
    "    m.save(f\"../plots/{property_type.lower()}.html\")\n",
    "\n",
    "    # Return the map object for display in Jupyter Notebook (last one created)\n",
    "    return m\n"
   ]
  },
  {
   "cell_type": "code",
   "execution_count": null,
   "metadata": {},
   "outputs": [],
   "source": [
    "# get predictions and join with suburb shapefile for plotting\n",
    "house_preds_df = pd.read_csv('../data/curated/predicted_growth_house.csv')\n",
    "unit_preds_df = pd.read_csv('../data/curated/predicted_growth_unit.csv')\n",
    "house_preds_df = house_preds_df.rename(columns={'rented_price': 'rented_price_2018'})\n",
    "unit_preds_df = unit_preds_df.rename(columns={'rented_price': 'rented_price_2018'})\n",
    "suburb_gdf = gpd.read_file('../data/landing/suburb-shapefile/')\n",
    "suburb_gdf = suburb_gdf[suburb_gdf['STE_NAME21'] == 'Victoria']\n",
    "suburb_gdf = suburb_gdf.rename(columns={'SAL_NAME21': 'suburb'})\n",
    "\n",
    "aff_df = pd.read_csv('../data/curated/affordability.csv')\n",
    "aff_df['postcode'] = aff_df['postcode'].astype(str)\n",
    "live_df = pd.read_csv('../data/curated/liveability.csv')\n",
    "live_df['postcode'] = live_df['postcode'].astype(str)\n",
    "postcode_gdf = gpd.read_file('../data/landing/postcode-shapefile/')\n",
    "postcode_gdf = postcode_gdf.rename(columns={'POA_CODE21': 'postcode'})\n",
    "\n",
    "# output dataframe shapes\n",
    "print('House Predictions:', house_preds_df.shape)\n",
    "print('Unit Predictions:', unit_preds_df.shape)\n",
    "print('Affordability:', aff_df.shape)\n",
    "print('Liveability:', live_df.shape)"
   ]
  },
  {
   "cell_type": "code",
   "execution_count": 107,
   "metadata": {},
   "outputs": [],
   "source": [
    "# merge with suburb shapefile\n",
    "house_preds_df = house_preds_df.merge(suburb_gdf[['suburb', 'geometry']], on='suburb', how='inner')\n",
    "unit_preds_df = unit_preds_df.merge(suburb_gdf[['suburb', 'geometry']], on='suburb', how='inner')\n",
    "\n",
    "# merge with postcode shapefile\n",
    "aff_df = aff_df.merge(postcode_gdf[['postcode', 'geometry']], on='postcode', how='inner')\n",
    "live_df = live_df.merge(postcode_gdf[['postcode', 'geometry']], on='postcode', how='inner')\n",
    "\n",
    "# create growth rate columns for house and unit with mean rented price from 2021-2023 as baseline and pred_2027 as target\n",
    "house_preds_df['baseline_rented_price'] = house_preds_df[['rented_price_2021', 'rented_price_2022', 'rented_price_2023']].mean(axis=1)\n",
    "house_preds_df['growth_rate'] = (house_preds_df['pred_2027'] - house_preds_df['baseline_rented_price']) / house_preds_df['baseline_rented_price']\n",
    "\n",
    "unit_preds_df['baseline_rented_price'] = unit_preds_df[['rented_price_2021', 'rented_price_2022', 'rented_price_2023']].mean(axis=1)\n",
    "unit_preds_df['growth_rate'] = (unit_preds_df['pred_2027'] - unit_preds_df['baseline_rented_price']) / unit_preds_df['baseline_rented_price']\n",
    "\n",
    "# turn liveability rank into a score from 0-1\n",
    "live_df['liveability'] = 1 - (live_df['rank'] / live_df['rank'].max())"
   ]
  },
  {
   "cell_type": "code",
   "execution_count": null,
   "metadata": {},
   "outputs": [],
   "source": [
    "house_preds_gdf = gpd.GeoDataFrame(house_preds_df, crs='EPSG:4326', geometry=house_preds_df['geometry'])\n",
    "unit_preds_gdf = gpd.GeoDataFrame(unit_preds_df, crs='EPSG:4326', geometry=unit_preds_df['geometry'])\n",
    "aff_gdf = gpd.GeoDataFrame(aff_df, crs='EPSG:4326', geometry=aff_df['geometry'])\n",
    "live_gdf = gpd.GeoDataFrame(live_df, crs='EPSG:4326', geometry=live_df['geometry'])\n",
    "\n",
    "# convert confidence from high/low to boolean and drop NA values\n",
    "house_preds_gdf['is_high_confidence'] = house_preds_gdf['confidence'].map({'high': 1, 'low': 0})\n",
    "unit_preds_gdf['is_high_confidence'] = unit_preds_gdf['confidence'].map({'high': 1, 'low': 0})\n",
    "house_preds_gdf = house_preds_gdf.dropna(subset=['pred_2027', 'rented_price_2023'])\n",
    "unit_preds_gdf = unit_preds_gdf.dropna(subset=['pred_2027', 'rented_price_2023'])\n",
    "\n",
    "# remove low confidence\n",
    "house_preds_gdf = house_preds_gdf[house_preds_gdf['is_high_confidence'] == 1]\n",
    "unit_preds_gdf = unit_preds_gdf[unit_preds_gdf['is_high_confidence'] == 1]\n",
    "\n",
    "# output geo dataframe shapes\n",
    "print('House Predictions:', house_preds_gdf.shape)\n",
    "print('Unit Predictions:', unit_preds_gdf.shape)\n",
    "print('Affordability:', aff_gdf.shape)\n",
    "print('Liveability:', live_gdf.shape)\n"
   ]
  },
  {
   "cell_type": "code",
   "execution_count": null,
   "metadata": {},
   "outputs": [],
   "source": [
    "plot_geospatial(\n",
    "    house_preds_gdf[house_preds_gdf['model'] == 'rf'],\n",
    "    'growth_rate',\n",
    "    'Suburb Growth Rate (House Rental Price)',\n",
    "    'RdYlGn',\n",
    "    'House',\n",
    "    'suburb',\n",
    "    custom_bins=[-1, -0.5, 0, 0.5, 1]\n",
    ")"
   ]
  },
  {
   "cell_type": "code",
   "execution_count": null,
   "metadata": {},
   "outputs": [],
   "source": [
    "plot_geospatial(\n",
    "    unit_preds_gdf[unit_preds_gdf['model'] == 'rf'],\n",
    "    'growth_rate',\n",
    "    'Suburb Growth Rate (Unit Rental Price)',\n",
    "    'RdYlGn',\n",
    "    'Unit_Apt',\n",
    "    'suburb',\n",
    "    custom_bins=[-1, -0.5, 0, 0.5, 1]\n",
    ")"
   ]
  },
  {
   "cell_type": "code",
   "execution_count": null,
   "metadata": {},
   "outputs": [],
   "source": [
    "# plot geospatial heatmap for affordability\n",
    "plot_geospatial(\n",
    "    aff_gdf,\n",
    "    'price/income',\n",
    "    'Suburb Affordability', \n",
    "    'Greens',\n",
    "    'Affordability',\n",
    "    'postcode',\n",
    ")"
   ]
  },
  {
   "cell_type": "code",
   "execution_count": null,
   "metadata": {},
   "outputs": [],
   "source": [
    "# plot liveability\n",
    "plot_geospatial(\n",
    "    live_gdf,\n",
    "    'liveability',\n",
    "    'Suburb Liveability',\n",
    "    'Blues',\n",
    "    'Liveability',\n",
    "    'postcode'\n",
    ")"
   ]
  }
 ],
 "metadata": {
  "kernelspec": {
   "display_name": ".venv",
   "language": "python",
   "name": "python3"
  },
  "language_info": {
   "codemirror_mode": {
    "name": "ipython",
    "version": 3
   },
   "file_extension": ".py",
   "mimetype": "text/x-python",
   "name": "python",
   "nbconvert_exporter": "python",
   "pygments_lexer": "ipython3",
   "version": "3.12.4"
  }
 },
 "nbformat": 4,
 "nbformat_minor": 2
}
