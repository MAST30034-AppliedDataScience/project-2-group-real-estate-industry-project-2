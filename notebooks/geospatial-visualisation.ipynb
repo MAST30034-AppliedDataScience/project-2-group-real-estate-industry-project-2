{
 "cells": [
  {
   "cell_type": "markdown",
   "metadata": {},
   "source": [
    "# Geospatial Visualisation"
   ]
  },
  {
   "cell_type": "code",
   "execution_count": 26,
   "metadata": {},
   "outputs": [],
   "source": [
    "import pandas as pd\n",
    "import numpy as np\n",
    "import geopandas as gpd\n",
    "import matplotlib.pyplot as plt\n",
    "import seaborn as sns\n",
    "import contextily as ctx\n",
    "\n",
    "\n",
    "import sys, os\n",
    "sys.path.append(os.path.abspath('../'))\n",
    "from scripts.utils import create_dir, get_runtime\n",
    "import time\n",
    "start_time = time.time()"
   ]
  },
  {
   "cell_type": "code",
   "execution_count": null,
   "metadata": {},
   "outputs": [],
   "source": [
    "# load sa2 shapefile\n",
    "sa2_gdf = gpd.read_file('../data/landing/sa2/sa2-21-shp/')\n",
    "sa2_gdf['sa2_code'] = sa2_gdf['SA2_CODE21']\n",
    "sa2_gdf = sa2_gdf[['sa2_code', 'geometry']]\n",
    "sa2_gdf"
   ]
  },
  {
   "cell_type": "code",
   "execution_count": null,
   "metadata": {},
   "outputs": [],
   "source": [
    "# load rental history/current dataset 2017 - 2024\n",
    "rental_df = pd.read_csv('../data/curated/rental-17-24.csv')\n",
    "rental_df = rental_df[\n",
    "    ['sa2_code', 'suburb', 'bed', 'bath', 'car', 'type', 'year', 'median_income', 'population', 'time_city', 'avg_property_price', 'rented_price']\n",
    "]\n",
    "rental_df['sa2_code'] = rental_df['sa2_code'].astype('Int64').astype(str)\n",
    "rental_df = rental_df.merge(sa2_gdf, on='sa2_code',how='left')\n",
    "\n",
    "rental_df"
   ]
  },
  {
   "cell_type": "code",
   "execution_count": 21,
   "metadata": {},
   "outputs": [],
   "source": [
    "house_df = rental_df[rental_df['type'] == 'House']\n",
    "unit_df = rental_df[rental_df['type'] == 'Unit/apmt']\n",
    "print('House:', house_df.shape)\n",
    "print('Unit:', unit_df.shape)"
   ]
  },
  {
   "cell_type": "code",
   "execution_count": null,
   "metadata": {},
   "outputs": [],
   "source": [
    "house_agg_df = house_df.groupby(['sa2_code', 'geometry']).agg({\n",
    "    'median_income': 'mean',\n",
    "    'population': 'mean',\n",
    "    'time_city': 'mean',\n",
    "    'avg_property_price': 'mean',\n",
    "    'rented_price': 'mean',\n",
    "}).reset_index()\n",
    "house_agg_df"
   ]
  },
  {
   "cell_type": "code",
   "execution_count": null,
   "metadata": {},
   "outputs": [],
   "source": [
    "unit_agg_df = unit_df.groupby(['sa2_code', 'geometry']).agg({\n",
    "    'median_income': 'mean',\n",
    "    'population': 'mean',\n",
    "    'time_city': 'mean',\n",
    "    'avg_property_price': 'mean',\n",
    "    'rented_price': 'mean',\n",
    "}).reset_index()\n",
    "unit_agg_df"
   ]
  },
  {
   "cell_type": "code",
   "execution_count": 51,
   "metadata": {},
   "outputs": [],
   "source": [
    "# Function to plot heatmaps for different columns\n",
    "def plot_geospatial_heatmap_osm_save(gdf, column, title, cmap, property_type):\n",
    "    \"\"\" Plot a heatmap of a given column in a GeoDataFrame with OpenStreetMap as background.\n",
    "    \"\"\"    \n",
    "    fig, ax = plt.subplots(figsize=(10, 8))\n",
    "    \n",
    "    # Plot the Victoria SA2 boundaries with heatmap and a custom color scheme\n",
    "    gdf.plot(column=column, ax=ax, legend=True, cmap=cmap, alpha=0.7,\n",
    "             legend_kwds={'shrink': 0.5, 'label': f\"{title} (Scale)\"})  # Adjust legend size and label\n",
    "    \n",
    "    # Add OpenStreetMap as background\n",
    "    ctx.add_basemap(ax, crs=gdf.crs.to_string(), source=ctx.providers.OpenStreetMap.Mapnik)\n",
    "    \n",
    "    # Title and labels\n",
    "    ax.set_title(f'{property_type} {title}', fontsize=18, fontweight='bold', pad=20)\n",
    "    ax.set_axis_off()\n",
    "    \n",
    "    # Adjust layout and save the plot\n",
    "    plt.tight_layout()\n",
    "    plt.savefig(f\"../plots/{property_type.lower()}_{column}.png\", dpi=300)  # Save the figure with high resolution\n",
    "    plt.show()\n",
    "\n",
    "# List of columns and corresponding color maps to plot\n",
    "columns_to_plot = {\n",
    "    'median_income': 'OrRd',            # Orange-Red color scheme for income\n",
    "    'population': 'Blues',              # Blue color scheme for population\n",
    "    'avg_property_price': 'Greens',     # Green color scheme for property price\n",
    "    'rented_price': 'Purples'           # Purple color scheme for rented price\n",
    "}"
   ]
  },
  {
   "cell_type": "code",
   "execution_count": null,
   "metadata": {},
   "outputs": [],
   "source": [
    "# Plot heatmaps for house data\n",
    "house_agg_gdf = gpd.GeoDataFrame(house_agg_df, crs='EPSG:4326', geometry=house_agg_df['geometry'])\n",
    "for column, cmap in columns_to_plot.items():\n",
    "    plot_geospatial_heatmap_osm_save(house_agg_gdf, column, column.replace('_', ' ').title(), cmap, 'House')"
   ]
  },
  {
   "cell_type": "code",
   "execution_count": null,
   "metadata": {},
   "outputs": [],
   "source": [
    "# Plot heatmaps for unit data\n",
    "unit_agg_gdf = gpd.GeoDataFrame(unit_agg_df, crs='EPSG:4326', geometry=unit_agg_df['geometry'])\n",
    "for column, cmap in columns_to_plot.items():\n",
    "    plot_geospatial_heatmap_osm_save(unit_agg_gdf, column, column.replace('_', ' ').title(), cmap, 'Unit_Apt')"
   ]
  }
 ],
 "metadata": {
  "kernelspec": {
   "display_name": ".venv",
   "language": "python",
   "name": "python3"
  },
  "language_info": {
   "codemirror_mode": {
    "name": "ipython",
    "version": 3
   },
   "file_extension": ".py",
   "mimetype": "text/x-python",
   "name": "python",
   "nbconvert_exporter": "python",
   "pygments_lexer": "ipython3",
   "version": "3.12.4"
  }
 },
 "nbformat": 4,
 "nbformat_minor": 2
}
