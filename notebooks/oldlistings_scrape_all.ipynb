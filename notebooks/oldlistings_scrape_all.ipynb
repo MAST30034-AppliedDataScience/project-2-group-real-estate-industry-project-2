{
 "cells": [
  {
   "cell_type": "code",
   "execution_count": null,
   "metadata": {},
   "outputs": [],
   "source": [
    "# this notebook may seems repeated\n",
    "# but it is for concurrence with the other notebooks"
   ]
  },
  {
   "cell_type": "code",
   "execution_count": 1,
   "metadata": {},
   "outputs": [],
   "source": [
    "import pickle\n",
    "base_url = 'https://www.oldlistings.com.au'\n",
    "# import requests\n",
    "import grequests\n",
    "from itertools import islice\n",
    "from tqdm import tqdm\n",
    "import time\n",
    "\n",
    "with open(\"../data/landing/oldlistings/rent_pages.p\", \"rb\") as f:\n",
    "    list_rent_2 = pickle.load(f)\n",
    "with open(\"../data/landing/oldlistings/buy_pages.p\", \"rb\") as f:\n",
    "    list_buy_2 = pickle.load(f)"
   ]
  },
  {
   "cell_type": "code",
   "execution_count": 2,
   "metadata": {},
   "outputs": [],
   "source": [
    "def fetch_in_batches_2(urls, batch_size=5, base_url = 'https://www.oldlistings.com.au'):\n",
    "    print(f\"Fetching {len(urls)/batch_size} batches\")\n",
    "    for batch in tqdm(iter_batches(urls, batch_size)):\n",
    "        rs = (grequests.get('https://api.scraperapi.com/', params = { 'api_key': scraper_api_key, 'url': base_url + url }) for url in batch)\n",
    "        responses = grequests.map(rs)\n",
    "        for i in range(len(responses)):\n",
    "            _items = batch[i].split('/')\n",
    "            r = responses[i]\n",
    "            # print(r)\n",
    "            with open(f\"../data/landing/oldlistings/{_items[-2]}_html/{_items[-3]}_{_items[-4]}_{_items[-1]}.html\", \"w\") as f:\n",
    "                f.write(r.text)\n",
    "def iter_batches(iterable, batch_size):\n",
    "    it = iter(iterable)\n",
    "    while True:\n",
    "        batch = list(islice(it, batch_size))\n",
    "        if not batch:\n",
    "            break\n",
    "        yield batch"
   ]
  },
  {
   "cell_type": "markdown",
   "metadata": {},
   "source": [
    "# func"
   ]
  },
  {
   "cell_type": "code",
   "execution_count": 3,
   "metadata": {},
   "outputs": [
    {
     "name": "stdout",
     "output_type": "stream",
     "text": [
      "The file does not start with a proper HTML format.\n"
     ]
    }
   ],
   "source": [
    "def is_proper_html(file_path):\n",
    "    try:\n",
    "        # Open the file and read the first few lines or bytes (enough to check the start)\n",
    "        with open(file_path, 'r', encoding='utf-8') as f:\n",
    "            first_line = f.read(256).strip().lower()  # Read first 256 bytes/characters\n",
    "\n",
    "        # Check if it starts with common HTML starting tags\n",
    "        if first_line.startswith('<!doctype html>') or first_line.startswith('<html>'):\n",
    "            return True\n",
    "        else:\n",
    "            return False\n",
    "\n",
    "    except FileNotFoundError:\n",
    "        # print(f\"File {file_path} not found.\")\n",
    "        return False\n",
    "    except Exception as e:\n",
    "        # print(f\"An error occurred: {e}\")\n",
    "        return False\n",
    "\n",
    "def path_generator(link):\n",
    "    _items = link.split('/')\n",
    "    return f\"../data/landing/oldlistings/{_items[-2]}_html/{_items[-3]}_{_items[-4]}_{_items[-1]}.html\"\n",
    "# Example usage\n",
    "file_path = 'example.html'\n",
    "if is_proper_html(file_path):\n",
    "    print(\"The file starts with a proper HTML format.\")\n",
    "else:\n",
    "    print(\"The file does not start with a proper HTML format.\")\n"
   ]
  },
  {
   "cell_type": "code",
   "execution_count": 6,
   "metadata": {},
   "outputs": [
    {
     "data": {
      "text/plain": [
       "5000"
      ]
     },
     "execution_count": 6,
     "metadata": {},
     "output_type": "execute_result"
    }
   ],
   "source": [
    "\n"
   ]
  },
  {
   "cell_type": "markdown",
   "metadata": {},
   "source": [
    "## 0-5000\n"
   ]
  },
  {
   "cell_type": "code",
   "execution_count": 11,
   "metadata": {},
   "outputs": [
    {
     "data": {
      "text/plain": [
       "5005"
      ]
     },
     "execution_count": 11,
     "metadata": {},
     "output_type": "execute_result"
    }
   ],
   "source": [
    "# verify the files\n",
    "count = 0\n",
    "for link in list_rent_2[0:5000]:\n",
    "    if is_proper_html(path_generator(link)):\n",
    "        count += 1\n",
    "count"
   ]
  },
  {
   "cell_type": "code",
   "execution_count": 19,
   "metadata": {},
   "outputs": [
    {
     "name": "stdout",
     "output_type": "stream",
     "text": [
      "Fetching 0.4 batches\n"
     ]
    },
    {
     "name": "stderr",
     "output_type": "stream",
     "text": [
      "1it [00:06,  6.08s/it]\n"
     ]
    }
   ],
   "source": [
    "scraper_api_key = '45c311c01e4a704377b01efff2b770da'\n",
    "fetch_in_batches_2([link for link in list_rent_2[5000:5010] if not is_proper_html(path_generator(link))])"
   ]
  },
  {
   "cell_type": "markdown",
   "metadata": {},
   "source": [
    "## 5000-10000"
   ]
  },
  {
   "cell_type": "code",
   "execution_count": 20,
   "metadata": {},
   "outputs": [
    {
     "data": {
      "text/plain": [
       "1847"
      ]
     },
     "execution_count": 20,
     "metadata": {},
     "output_type": "execute_result"
    }
   ],
   "source": [
    "lo = 5000\n",
    "hi = 10000\n",
    "count = 0\n",
    "for link in list_rent_2[lo:hi]:\n",
    "    if is_proper_html(path_generator(link)):\n",
    "        count += 1\n",
    "count"
   ]
  },
  {
   "cell_type": "code",
   "execution_count": null,
   "metadata": {},
   "outputs": [],
   "source": [
    "scraper_api_key = \"9fb2bde75cacdb60df4cdd7ff6f89346\"\n",
    "fetch_in_batches_2([link for link in list_rent_2[lo:hi] if not is_proper_html(path_generator(link))])"
   ]
  },
  {
   "cell_type": "markdown",
   "metadata": {},
   "source": [
    "## 10000-15000"
   ]
  },
  {
   "cell_type": "code",
   "execution_count": 21,
   "metadata": {},
   "outputs": [
    {
     "data": {
      "text/plain": [
       "121"
      ]
     },
     "execution_count": 21,
     "metadata": {},
     "output_type": "execute_result"
    }
   ],
   "source": [
    "time.sleep(10)\n",
    "lo = 10000\n",
    "hi = 15000\n",
    "count = 0\n",
    "for link in list_rent_2[lo:hi]:\n",
    "    if is_proper_html(path_generator(link)):\n",
    "        count += 1\n",
    "count"
   ]
  },
  {
   "cell_type": "code",
   "execution_count": null,
   "metadata": {},
   "outputs": [],
   "source": [
    "scraper_api_key = \"9fb2bde75cacdb60df4cdd7ff6f89346\"\n",
    "fetch_in_batches_2([link for link in list_rent_2[lo:hi] if not is_proper_html(path_generator(link))])"
   ]
  },
  {
   "cell_type": "markdown",
   "metadata": {},
   "source": [
    "## 15000-20000"
   ]
  },
  {
   "cell_type": "code",
   "execution_count": null,
   "metadata": {},
   "outputs": [],
   "source": [
    "time.sleep(10)\n",
    "lo = 15000\n",
    "hi = 20000\n",
    "count = 0\n",
    "for link in list_rent_2[lo:hi]:\n",
    "    if is_proper_html(path_generator(link)):\n",
    "        count += 1\n",
    "count"
   ]
  },
  {
   "cell_type": "code",
   "execution_count": null,
   "metadata": {},
   "outputs": [],
   "source": [
    "scraper_api_key = \"1509e96ce6b290c49f8d9351d770f8cc\"\n",
    "fetch_in_batches_2([link for link in list_rent_2[lo:hi] if not is_proper_html(path_generator(link))])"
   ]
  },
  {
   "cell_type": "markdown",
   "metadata": {},
   "source": [
    "## 20000 - 25000"
   ]
  },
  {
   "cell_type": "code",
   "execution_count": null,
   "metadata": {},
   "outputs": [],
   "source": [
    "time.sleep(10)\n",
    "lo = 20000\n",
    "hi = 25000\n",
    "count = 0\n",
    "for link in list_rent_2[lo:hi]:\n",
    "    if is_proper_html(path_generator(link)):\n",
    "        count += 1\n",
    "count"
   ]
  },
  {
   "cell_type": "code",
   "execution_count": null,
   "metadata": {},
   "outputs": [],
   "source": [
    "scraper_api_key = \"6772b523b098cbfd1ceef9fd2c034044\"\n",
    "fetch_in_batches_2([link for link in list_rent_2[lo:hi] if not is_proper_html(path_generator(link))])"
   ]
  },
  {
   "cell_type": "markdown",
   "metadata": {},
   "source": [
    "## Random sections"
   ]
  },
  {
   "cell_type": "code",
   "execution_count": 22,
   "metadata": {},
   "outputs": [
    {
     "name": "stdout",
     "output_type": "stream",
     "text": [
      "Fetching 155.2 batches\n"
     ]
    },
    {
     "name": "stderr",
     "output_type": "stream",
     "text": [
      "96it [09:33,  5.90s/it]"
     ]
    }
   ],
   "source": [
    "scraper_api_key = \"5b3331933de07d890c95c21bd09a52cd\"\n",
    "fetch_in_batches_2([link for link in list_rent_2[25000:] if not is_proper_html(path_generator(link))])"
   ]
  }
 ],
 "metadata": {
  "kernelspec": {
   "display_name": ".venv",
   "language": "python",
   "name": "python3"
  },
  "language_info": {
   "codemirror_mode": {
    "name": "ipython",
    "version": 3
   },
   "file_extension": ".py",
   "mimetype": "text/x-python",
   "name": "python",
   "nbconvert_exporter": "python",
   "pygments_lexer": "ipython3",
   "version": "3.10.12"
  }
 },
 "nbformat": 4,
 "nbformat_minor": 2
}
