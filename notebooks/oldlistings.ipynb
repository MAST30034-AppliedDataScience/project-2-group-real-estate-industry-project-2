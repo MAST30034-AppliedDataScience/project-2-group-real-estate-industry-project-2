{
 "cells": [
  {
   "cell_type": "code",
   "execution_count": 1,
   "metadata": {},
   "outputs": [
    {
     "name": "stderr",
     "output_type": "stream",
     "text": [
      "/home/even/repo/project-2-group-real-estate-industry-project-2/.venv/lib/python3.10/site-packages/grequests.py:22: MonkeyPatchWarning: Monkey-patching ssl after ssl has already been imported may lead to errors, including RecursionError on Python 3.6. It may also silently lead to incorrect behaviour on Python 3.7. Please monkey-patch earlier. See https://github.com/gevent/gevent/issues/1016. Modules that had direct imports (NOT patched): ['urllib3.util (/home/even/repo/project-2-group-real-estate-industry-project-2/.venv/lib/python3.10/site-packages/urllib3/util/__init__.py)', 'urllib3.util.ssl_ (/home/even/repo/project-2-group-real-estate-industry-project-2/.venv/lib/python3.10/site-packages/urllib3/util/ssl_.py)']. \n",
      "  curious_george.patch_all(thread=False, select=False)\n"
     ]
    }
   ],
   "source": [
    "import re, sys, os\n",
    "from json import dump\n",
    "from tqdm import tqdm\n",
    "import time\n",
    "from collections import defaultdict\n",
    "import requests\n",
    "import grequests\n",
    "from itertools import islice\n",
    "# user packages\n",
    "from bs4 import BeautifulSoup\n",
    "# from urllib.request import urlopen, Request\n",
    "import json\n",
    "sys.path.append('../')\n",
    "from scripts.oldlistings import get_oldlistings_page\n",
    "import pickle\n",
    "from scripts.env import scraper_api_key # replave with your own api key\n",
    "base_url = 'https://www.oldlistings.com.au'\n",
    "\n"
   ]
  },
  {
   "cell_type": "code",
   "execution_count": 2,
   "metadata": {},
   "outputs": [],
   "source": [
    "# this is for testing using downloaded html\n",
    "# please use normal url for production\n",
    "\n",
    "# read html with bs4\n",
    "path = \"../data/landing/South Melbourne Rent Real Estate Old Listings.html\"\n",
    "\n",
    "with open(path, 'r') as f:\n",
    "    webpage = f.read()\n",
    "\n",
    "soup = BeautifulSoup(webpage)"
   ]
  },
  {
   "cell_type": "markdown",
   "metadata": {},
   "source": [
    "### function to get info from a property"
   ]
  },
  {
   "cell_type": "code",
   "execution_count": 24,
   "metadata": {},
   "outputs": [],
   "source": [
    "def get_info(p):\n",
    "    # try to get data in json format \n",
    "    info_dict = defaultdict(None)\n",
    "    info_dict['lat'] = p.get('data-lat')\n",
    "    info_dict['lng'] = p.get('data-lng')\n",
    "    info_dict['rented_prices'] = []\n",
    "\n",
    "    p = p.find('section', {'class':\"grid-100 grid-parent\"}) # replace p with its only (useful)child\n",
    "\n",
    "    title = p.find('section', {'class':\"grid-65 tablet-grid-65 clearfix\"})\n",
    "    ad = p.find('section', {'class':\"grid-35 tablet-grid-35 price\"})\n",
    "    list_of_history = p.find('section', {'class':\"grid-100 historical-price\"})\n",
    "\n",
    "\n",
    "    # title\n",
    "    info_dict['address'] = title.find('h2', {'class': 'address'}).text\n",
    "    # other metadata: bed, bath, car etc\n",
    "    # this do not garentee any structure of the data\n",
    "    info_dict['meta_data'] = []\n",
    "    for meta_data in title.find_all('p', {'class': re.compile(\"property-meta\")}):\n",
    "        obj = {}\n",
    "        obj['label'] = meta_data.get('class')[1]\n",
    "        obj['description'] = meta_data.find('span').text.split(' ')[0]\n",
    "        obj['quantity'] = meta_data.contents[1].strip()\n",
    "        info_dict['meta_data'].append(obj)\n",
    "\n",
    "\n",
    "    # ad : we dont use ad\n",
    "\n",
    "    # list of history\n",
    "    for line in list_of_history.find('ul').find_all('li'):\n",
    "        record = {}\n",
    "        record['date'] = line.find('span').text\n",
    "        record['price'] = line.contents[1]\n",
    "        info_dict['rented_prices'].append(record)\n",
    "\n",
    "    return info_dict"
   ]
  },
  {
   "cell_type": "code",
   "execution_count": 25,
   "metadata": {},
   "outputs": [],
   "source": [
    "# soup.find_all('div', {'class':\"content-col\"})\n",
    "def scrape_page(soup):\n",
    "    properties = soup.find('div', {'class':\"content-col\"}).findChildren(\"div\" , recursive=False)\n",
    "    list_of_properties = []\n",
    "    for property in properties:\n",
    "        list_of_properties.append(get_info(property))\n",
    "        # get_info(property)\n",
    "    return list_of_properties"
   ]
  },
  {
   "cell_type": "code",
   "execution_count": 6,
   "metadata": {},
   "outputs": [],
   "source": [
    "# testing json output, for preprocessing use\n",
    "\n",
    "# json.dump(get_oldlistings_page(soup), open('test.json', 'w'))"
   ]
  },
  {
   "cell_type": "markdown",
   "metadata": {},
   "source": [
    "# Sitemap\n",
    "page=1 is the 2nd page\n",
    "no page tag is the first page"
   ]
  },
  {
   "cell_type": "markdown",
   "metadata": {},
   "source": [
    "## Getting the sitemap"
   ]
  },
  {
   "cell_type": "markdown",
   "metadata": {},
   "source": [
    "https://www.oldlistings.com.au/site-map?page=1&state=VIC"
   ]
  },
  {
   "cell_type": "code",
   "execution_count": 1,
   "metadata": {},
   "outputs": [
    {
     "data": {
      "text/plain": [
       "['https://www.oldlistings.com.au/site-map?state=VIC',\n",
       " 'https://www.oldlistings.com.au/site-map?page=1&state=VIC',\n",
       " 'https://www.oldlistings.com.au/site-map?page=2&state=VIC',\n",
       " 'https://www.oldlistings.com.au/site-map?page=3&state=VIC',\n",
       " 'https://www.oldlistings.com.au/site-map?page=4&state=VIC',\n",
       " 'https://www.oldlistings.com.au/site-map?page=5&state=VIC',\n",
       " 'https://www.oldlistings.com.au/site-map?page=6&state=VIC',\n",
       " 'https://www.oldlistings.com.au/site-map?page=7&state=VIC',\n",
       " 'https://www.oldlistings.com.au/site-map?page=8&state=VIC',\n",
       " 'https://www.oldlistings.com.au/site-map?page=9&state=VIC',\n",
       " 'https://www.oldlistings.com.au/site-map?page=10&state=VIC',\n",
       " 'https://www.oldlistings.com.au/site-map?page=11&state=VIC',\n",
       " 'https://www.oldlistings.com.au/site-map?page=12&state=VIC',\n",
       " 'https://www.oldlistings.com.au/site-map?page=13&state=VIC',\n",
       " 'https://www.oldlistings.com.au/site-map?page=14&state=VIC',\n",
       " 'https://www.oldlistings.com.au/site-map?page=15&state=VIC',\n",
       " 'https://www.oldlistings.com.au/site-map?page=16&state=VIC',\n",
       " 'https://www.oldlistings.com.au/site-map?page=17&state=VIC']"
      ]
     },
     "execution_count": 1,
     "metadata": {},
     "output_type": "execute_result"
    }
   ],
   "source": [
    "l = [\"https://www.oldlistings.com.au/site-map?state=VIC\"]\n",
    "for page in range(1,18):\n",
    "    l.append(f\"https://www.oldlistings.com.au/site-map?page={page}&state=VIC\")\n",
    "l"
   ]
  },
  {
   "cell_type": "code",
   "execution_count": 5,
   "metadata": {},
   "outputs": [],
   "source": [
    "# save data in a csv, each entries is a new row\n",
    "with open(\"../data/landing/oldlistings_sitemap.csv\", \"w\") as f:\n",
    "    for url in l:\n",
    "        f.write(url)\n",
    "        f.write(\"\\n\")"
   ]
  },
  {
   "cell_type": "code",
   "execution_count": 12,
   "metadata": {},
   "outputs": [],
   "source": [
    "for i in range(0,18):\n",
    "    payload = { 'api_key': scraper_api_key, 'url': l[i] }\n",
    "    r = requests.get('https://api.scraperapi.com/', params=payload)\n",
    "    with open(f\"../data/landing/oldlistings/sitemap/{i}.html\", \"w\") as f:\n",
    "        f.write(r.text)"
   ]
  },
  {
   "cell_type": "markdown",
   "metadata": {},
   "source": [
    "## get urls from sitemap"
   ]
  },
  {
   "cell_type": "code",
   "execution_count": 40,
   "metadata": {},
   "outputs": [],
   "source": [
    "path = \"../data/landing/oldlistings/sitemap/0.html\"\n",
    "bs4 = BeautifulSoup(open(path, 'r').read(),\"html.parser\")"
   ]
  },
  {
   "cell_type": "code",
   "execution_count": null,
   "metadata": {},
   "outputs": [],
   "source": [
    "# end with buy/\n",
    "buy_re = re.compile(r\".*buy\\/$\")\n",
    "rent_re = re.compile(r\".*rent\\/$\")\n",
    "#bs4.find_all('table', {'class':\"sticky-enabled\"})[0].find_all('tr')[1]\n",
    "links = bs4.find_all('table', {'class':\"sticky-enabled\"})[0].find_all('a', href=buy_re, recursive=True)\n",
    "for link in links:\n",
    "    print(link['href'])"
   ]
  },
  {
   "cell_type": "code",
   "execution_count": 8,
   "metadata": {},
   "outputs": [],
   "source": [
    "buy_re = re.compile(r\".*buy\\/$\")\n",
    "rent_re = re.compile(r\".*rent\\/$\")\n",
    "list_buy = []\n",
    "list_rent = []\n",
    "for i in range(0,18):\n",
    "    path = f\"../data/landing/oldlistings/sitemap/{i}.html\"\n",
    "    bs4 = BeautifulSoup(open(path, 'r').read(),\"html.parser\")\n",
    "    # buy part\n",
    "    links = bs4.find_all('table', {'class':\"sticky-enabled\"})[0].find_all('a', href=buy_re, recursive=True)\n",
    "    for _link in links:\n",
    "        list_buy.append(_link['href'])\n",
    "    # rent part\n",
    "    links = bs4.find_all('table', {'class':\"sticky-enabled\"})[0].find_all('a', href=rent_re, recursive=True)\n",
    "    for _link in links:\n",
    "        list_rent.append(_link['href'])\n",
    "list_buy = list(set(list_buy))\n",
    "list_rent = list(set(list_rent))"
   ]
  },
  {
   "cell_type": "code",
   "execution_count": 9,
   "metadata": {},
   "outputs": [
    {
     "data": {
      "text/plain": [
       "(3504, 3504)"
      ]
     },
     "execution_count": 9,
     "metadata": {},
     "output_type": "execute_result"
    }
   ],
   "source": [
    "len(list_buy), len(list_rent)"
   ]
  },
  {
   "cell_type": "code",
   "execution_count": 12,
   "metadata": {},
   "outputs": [],
   "source": [
    "with open(\"../data/landing/oldlistings/buy_area_pythonobj\", \"wb\") as f:\n",
    "    pickle.dump(list_buy, f)\n",
    "with open(\"../data/landing/oldlistings/rent_area_pythonobj\", \"wb\") as f:\n",
    "    pickle.dump(list_rent, f)"
   ]
  },
  {
   "cell_type": "markdown",
   "metadata": {},
   "source": [
    "# Buy: First Page scraping\n",
    "first page includes href to all pages"
   ]
  },
  {
   "cell_type": "code",
   "execution_count": 23,
   "metadata": {},
   "outputs": [
    {
     "data": {
      "text/plain": [
       "'buy'"
      ]
     },
     "execution_count": 23,
     "metadata": {},
     "output_type": "execute_result"
    }
   ],
   "source": [
    "list_buy[1].split('/')[-2]"
   ]
  },
  {
   "cell_type": "code",
   "execution_count": 15,
   "metadata": {},
   "outputs": [],
   "source": [
    "progress = 0"
   ]
  },
  {
   "cell_type": "code",
   "execution_count": 24,
   "metadata": {},
   "outputs": [],
   "source": [
    "for _link in list_buy:\n",
    "    payload = { 'api_key': scraper_api_key, 'url': f\"{base_url}{_link}\" }\n",
    "    _items = _link.split('/')\n",
    "    r = requests.get('https://api.scraperapi.com/', params=payload)\n",
    "    with open(f\"../data/landing/oldlistings/buy_html/{_items[-3]}_{_items[-4]}.html\", \"w\") as f:\n",
    "        f.write(r.text)"
   ]
  },
  {
   "cell_type": "markdown",
   "metadata": {},
   "source": [
    "# Rent: first page scraping\n",
    "concurrent requests"
   ]
  },
  {
   "cell_type": "code",
   "execution_count": 6,
   "metadata": {},
   "outputs": [],
   "source": [
    "# Function to execute requests in batches of 4\n",
    "def fetch_in_batches(urls, batch_size=4):\n",
    "    print(f\"Fetching {len(urls)/batch_size} batches\")\n",
    "    for batch in tqdm(iter_batches(urls, batch_size)):\n",
    "        rs = (grequests.get('https://api.scraperapi.com/', params = { 'api_key': scraper_api_key, 'url': url }) for url in batch)\n",
    "        responses = grequests.map(rs)\n",
    "        for i in range(len(responses)):\n",
    "            _items = batch[i].split('/')\n",
    "            r = responses[i]\n",
    "            with open(f\"../data/landing/oldlistings/rent_html/{_items[-3]}_{_items[-4]}.html\", \"w\") as f:\n",
    "                f.write(r.text)\n",
    "\n",
    "# Helper function to split URLs into batches of a given size\n",
    "def iter_batches(iterable, batch_size):\n",
    "    it = iter(iterable)\n",
    "    while True:\n",
    "        batch = list(islice(it, batch_size))\n",
    "        if not batch:\n",
    "            break\n",
    "        yield batch"
   ]
  },
  {
   "cell_type": "code",
   "execution_count": null,
   "metadata": {},
   "outputs": [],
   "source": [
    "for i in range(len(list_rent)):\n",
    "    list_rent[i] = base_url + list_rent[i]"
   ]
  },
  {
   "cell_type": "code",
   "execution_count": null,
   "metadata": {},
   "outputs": [],
   "source": [
    "fetch_in_batches(list_rent, batch_size=4)"
   ]
  },
  {
   "cell_type": "markdown",
   "metadata": {},
   "source": [
    "# all page links\n",
    "except first page"
   ]
  },
  {
   "cell_type": "code",
   "execution_count": 43,
   "metadata": {},
   "outputs": [],
   "source": []
  },
  {
   "cell_type": "code",
   "execution_count": 2,
   "metadata": {},
   "outputs": [],
   "source": [
    "def find_pages(soup,list_out):\n",
    "    _temp =  soup.find_all('ul',{'class': 'pagination'} )\n",
    "    if len(_temp) > 0:\n",
    "        # use first one which is the page list\n",
    "        _temp = _temp[0].find_all('li', {'class': False})\n",
    "        for _t in _temp:\n",
    "            list_out.append(_t.find('a', href=True)['href'])\n",
    "    "
   ]
  },
  {
   "cell_type": "code",
   "execution_count": 3,
   "metadata": {},
   "outputs": [],
   "source": [
    "def find_directory(dir):\n",
    "    # reset list\n",
    "    list_out = []\n",
    "    # run loop\n",
    "    for file_path in tqdm(os.listdir(dir)):\n",
    "        full_p = dir + file_path\n",
    "        bs4 = BeautifulSoup(open(full_p, 'r').read(),\"html.parser\")\n",
    "        find_pages(bs4,list_out)\n",
    "    return list_out"
   ]
  },
  {
   "cell_type": "markdown",
   "metadata": {},
   "source": [
    "## Rent"
   ]
  },
  {
   "cell_type": "code",
   "execution_count": 4,
   "metadata": {},
   "outputs": [
    {
     "name": "stderr",
     "output_type": "stream",
     "text": [
      "100%|██████████| 3504/3504 [00:39<00:00, 89.57it/s] \n"
     ]
    }
   ],
   "source": [
    "# not first pages\n",
    "base_rent_dir = \"../data/landing/oldlistings/rent_html/\"\n",
    "list_rent_2 = find_directory(base_rent_dir)\n"
   ]
  },
  {
   "cell_type": "code",
   "execution_count": 12,
   "metadata": {},
   "outputs": [],
   "source": [
    "list_rent_2 = list(set(list_rent_2))\n",
    "pickle.dump(list_rent_2, open(\"../data/landing/oldlistings/rent_pages.p\", \"wb\"))"
   ]
  },
  {
   "cell_type": "markdown",
   "metadata": {},
   "source": [
    "## Buy"
   ]
  },
  {
   "cell_type": "code",
   "execution_count": 6,
   "metadata": {},
   "outputs": [
    {
     "name": "stderr",
     "output_type": "stream",
     "text": [
      "100%|██████████| 3504/3504 [00:56<00:00, 62.13it/s]\n"
     ]
    }
   ],
   "source": [
    "# not first pages\n",
    "base_buy_dir = \"../data/landing/oldlistings/buy_html/\"\n",
    "list_buy_2 = find_directory(base_buy_dir)\n"
   ]
  },
  {
   "cell_type": "code",
   "execution_count": 13,
   "metadata": {},
   "outputs": [],
   "source": [
    "list_buy_2 = list(set(list_buy_2))\n",
    "pickle.dump(list_buy_2, open(\"../data/landing/oldlistings/buy_pages.p\", \"wb\"))"
   ]
  },
  {
   "cell_type": "markdown",
   "metadata": {},
   "source": [
    "# Scrape all links (moved to other notebook)\n",
    "due to large amount, scrape by small batches"
   ]
  },
  {
   "cell_type": "code",
   "execution_count": 1,
   "metadata": {},
   "outputs": [],
   "source": [
    "import pickle\n",
    "base_url = 'https://www.oldlistings.com.au'\n",
    "# import requests\n",
    "import grequests\n",
    "from itertools import islice\n",
    "from tqdm import tqdm"
   ]
  },
  {
   "cell_type": "code",
   "execution_count": 2,
   "metadata": {},
   "outputs": [],
   "source": [
    "with open(\"../data/landing/oldlistings/rent_pages.p\", \"rb\") as f:\n",
    "    list_rent_2 = pickle.load(f)\n",
    "with open(\"../data/landing/oldlistings/buy_pages.p\", \"rb\") as f:\n",
    "    list_buy_2 = pickle.load(f)"
   ]
  },
  {
   "cell_type": "code",
   "execution_count": 3,
   "metadata": {},
   "outputs": [
    {
     "data": {
      "text/plain": [
       "(25776, 36227)"
      ]
     },
     "execution_count": 3,
     "metadata": {},
     "output_type": "execute_result"
    }
   ],
   "source": [
    "len(list_rent_2), len(list_buy_2)"
   ]
  },
  {
   "cell_type": "code",
   "execution_count": 4,
   "metadata": {},
   "outputs": [
    {
     "data": {
      "text/plain": [
       "'/real-estate/VIC/Bentleigh+East/3165/rent/110'"
      ]
     },
     "execution_count": 4,
     "metadata": {},
     "output_type": "execute_result"
    }
   ],
   "source": [
    "list_rent_2[0]"
   ]
  },
  {
   "cell_type": "code",
   "execution_count": 5,
   "metadata": {},
   "outputs": [],
   "source": [
    "def fetch_in_batches_2(urls, batch_size=5, type = 'rent', base_url = 'https://www.oldlistings.com.au'):\n",
    "    print(f\"Fetching {len(urls)/batch_size} batches\")\n",
    "    for batch in tqdm(iter_batches(urls, batch_size)):\n",
    "        rs = (grequests.get('https://api.scraperapi.com/', params = { 'api_key': scraper_api_key, 'url': base_url + url }) for url in batch)\n",
    "        responses = grequests.map(rs)\n",
    "        for i in range(len(responses)):\n",
    "            _items = batch[i].split('/')\n",
    "            r = responses[i]\n",
    "            print(r)\n",
    "            with open(f\"../data/landing/oldlistings/{type}_html/{_items[-3]}_{_items[-4]}_{_items[-1]}.html\", \"w\") as f:\n",
    "                f.write(r.text)"
   ]
  }
 ],
 "metadata": {
  "kernelspec": {
   "display_name": ".venv",
   "language": "python",
   "name": "python3"
  },
  "language_info": {
   "codemirror_mode": {
    "name": "ipython",
    "version": 3
   },
   "file_extension": ".py",
   "mimetype": "text/x-python",
   "name": "python",
   "nbconvert_exporter": "python",
   "pygments_lexer": "ipython3",
   "version": "3.10.12"
  }
 },
 "nbformat": 4,
 "nbformat_minor": 2
}
