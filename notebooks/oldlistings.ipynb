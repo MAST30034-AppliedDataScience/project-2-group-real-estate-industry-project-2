{
 "cells": [
  {
   "cell_type": "code",
   "execution_count": 69,
   "metadata": {},
   "outputs": [],
   "source": [
    "import re, sys, os\n",
    "from json import dump\n",
    "from tqdm import tqdm\n",
    "import time\n",
    "from collections import defaultdict\n",
    "import urllib.request\n",
    "\n",
    "# user packages\n",
    "from bs4 import BeautifulSoup\n",
    "from urllib.request import urlopen, Request\n",
    "\n",
    "sys.path.append('../')\n",
    "from scripts.oldlistings import get_oldlistings_page"
   ]
  },
  {
   "cell_type": "code",
   "execution_count": 1,
   "metadata": {},
   "outputs": [],
   "source": [
    "# this is for testing using downloaded html\n",
    "# please use normal url for production\n",
    "\n",
    "# read html with bs4\n",
    "path = \"../data/landing/South Melbourne Rent Real Estate Old Listings.html\"\n",
    "\n",
    "with open(path, 'r') as f:\n",
    "    webpage = f.read()\n",
    "\n",
    "soup = BeautifulSoup(webpage)"
   ]
  },
  {
   "cell_type": "markdown",
   "metadata": {},
   "source": [
    "### function to get info from a property"
   ]
  },
  {
   "cell_type": "code",
   "execution_count": 60,
   "metadata": {},
   "outputs": [],
   "source": [
    "def get_info(p):\n",
    "    # try to get data in json format \n",
    "    info_dict = defaultdict(None)\n",
    "    info_dict['lat'] = p.get('data-lat')\n",
    "    info_dict['lng'] = p.get('data-lng')\n",
    "    info_dict['rented_prices'] = []\n",
    "\n",
    "    p = p.find('section', {'class':\"grid-100 grid-parent\"}) # replace p with its only (useful)child\n",
    "\n",
    "    title = p.find('section', {'class':\"grid-65 tablet-grid-65 clearfix\"})\n",
    "    ad = p.find('section', {'class':\"grid-35 tablet-grid-35 price\"})\n",
    "    list_of_history = p.find('section', {'class':\"grid-100 historical-price\"})\n",
    "\n",
    "\n",
    "    # title\n",
    "    info_dict['address'] = title.find('h2', {'class': 'address'}).text\n",
    "    # other metadata: bed, bath, car etc\n",
    "    # this do not garentee any structure of the data\n",
    "    info_dict['meta_data'] = []\n",
    "    for meta_data in title.find_all('p', {'class': re.compile(\"property-meta\")}):\n",
    "        obj = {}\n",
    "        obj['label'] = meta_data.get('class')[1]\n",
    "        obj['description'] = meta_data.find('span').text.split(' ')[0]\n",
    "        obj['quantity'] = meta_data.contents[1].strip()\n",
    "        info_dict['meta_data'].append(obj)\n",
    "\n",
    "\n",
    "    # ad : we dont use ad\n",
    "\n",
    "    # list of history\n",
    "    for line in list_of_history.find('ul').find_all('li'):\n",
    "        record = {}\n",
    "        record['date'] = line.find('span').text\n",
    "        record['price'] = line.contents[1]\n",
    "        info_dict['rented_prices'].append(record)\n",
    "\n",
    "    return info_dict"
   ]
  },
  {
   "cell_type": "code",
   "execution_count": 63,
   "metadata": {},
   "outputs": [],
   "source": [
    "# soup.find_all('div', {'class':\"content-col\"})\n",
    "def scrape_page(soup):\n",
    "    properties = soup.find('div', {'class':\"content-col\"}).findChildren(\"div\" , recursive=False)\n",
    "    list_of_properties = []\n",
    "    for property in properties:\n",
    "        list_of_properties.append(get_info(property))\n",
    "        # get_info(property)\n",
    "    return list_of_properties"
   ]
  }
 ],
 "metadata": {
  "kernelspec": {
   "display_name": ".venv",
   "language": "python",
   "name": "python3"
  },
  "language_info": {
   "codemirror_mode": {
    "name": "ipython",
    "version": 3
   },
   "file_extension": ".py",
   "mimetype": "text/x-python",
   "name": "python",
   "nbconvert_exporter": "python",
   "pygments_lexer": "ipython3",
   "version": "3.10.12"
  }
 },
 "nbformat": 4,
 "nbformat_minor": 2
}
