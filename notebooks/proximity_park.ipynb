{
 "cells": [
  {
   "cell_type": "markdown",
   "metadata": {},
   "source": [
    "Proximity finding with locally installed ORS server and Australia map.\n",
    "\n"
   ]
  },
  {
   "cell_type": "code",
   "execution_count": null,
   "metadata": {},
   "outputs": [],
   "source": [
    "import pandas as pd\n",
    "import geopandas as gpd\n",
    "from shapely import wkt\n",
    "from shapely.geometry import Point\n",
    "from scipy.spatial import cKDTree\n",
    "import numpy as np\n",
    "import requests\n",
    "import json\n",
    "from tqdm.auto import tqdm\n",
    "import matplotlib.pyplot as plt\n",
    "tqdm.pandas()  # \"tqdm>=4.9.0\"\n",
    "\n",
    "\n",
    "ors_url = \"https://api.openrouteservice.org/v2/directions/driving-car\""
   ]
  },
  {
   "cell_type": "markdown",
   "metadata": {},
   "source": [
    "# Loading dataset"
   ]
  },
  {
   "cell_type": "markdown",
   "metadata": {},
   "source": [
    "## property data"
   ]
  },
  {
   "cell_type": "code",
   "execution_count": 2,
   "metadata": {},
   "outputs": [],
   "source": [
    "property_data_path = \"../data/curated/rental-17-24.csv\"\n",
    "output_dir = \"../data/raw/time_park.csv\"\n",
    "property_df = pd.read_csv(property_data_path)\n",
    "coords = property_df[['lat', 'lng']].drop_duplicates()"
   ]
  },
  {
   "cell_type": "markdown",
   "metadata": {},
   "source": [
    "## Parks"
   ]
  },
  {
   "cell_type": "code",
   "execution_count": 9,
   "metadata": {},
   "outputs": [],
   "source": [
    "parks_path = \"../data/curated/parks-and-reserves1.csv\"\n",
    "parks_df = pd.read_csv(parks_path)[['latitude', 'longitude']]\n",
    "parks_df.rename(columns={'latitude': 'lat', 'longitude': 'lng'}, inplace=True)"
   ]
  },
  {
   "cell_type": "markdown",
   "metadata": {},
   "source": [
    "# Proximity"
   ]
  },
  {
   "cell_type": "code",
   "execution_count": 11,
   "metadata": {},
   "outputs": [],
   "source": [
    "num_to_find = 1\n",
    "tree = cKDTree(parks_df[['lng', 'lat']].values)\n",
    "property_coords = coords[['lng', 'lat']].values\n",
    "distances, indices = tree.query(property_coords, k=1)\n",
    "coords[\"park_index\"] = list(indices)"
   ]
  },
  {
   "cell_type": "code",
   "execution_count": null,
   "metadata": {},
   "outputs": [],
   "source": [
    "coords[\"park_index\"].value_counts()"
   ]
  },
  {
   "cell_type": "code",
   "execution_count": 13,
   "metadata": {},
   "outputs": [],
   "source": [
    "from collections import defaultdict\n",
    "err_count = defaultdict(int)\n",
    "def get_time_proximity(coordinates):\n",
    "    url = ors_url\n",
    "    body = {\"coordinates\": coordinates}\n",
    "    # print(body)\n",
    "    response = requests.post(url, json=body)\n",
    "    try:\n",
    "        if response.status_code == 200:\n",
    "            summary = response.json()[\"routes\"][0][\"summary\"]\n",
    "            if \"duration\" in summary:\n",
    "                return summary[\"duration\"]\n",
    "            return 0\n",
    "        else:\n",
    "            \n",
    "            if(response.json()[\"error\"][\"code\"] == 2004):\n",
    "                # distance is too long (> 100000.0 m)\n",
    "                err_count[2004] += 1\n",
    "                return -1\n",
    "            if(response.json()[\"error\"][\"code\"] == 2010):\n",
    "                err_count[2010] += 1\n",
    "                # \"error\":{\"code\":2010,\"message\":\"Could not find routable point within a radius of 400.0 meters of specified coordinate\n",
    "                return -1\n",
    "            print(response.text)\n",
    "            print(body)\n",
    "            \n",
    "            raise Exception(\"Error in request\")\n",
    "    except Exception as e:\n",
    "        print(response.json())\n",
    "        raise e\n",
    "\n",
    "# # Example usage\n",
    "# directions = get_time_proximity([[144.96332, -37.8140], [144.96332, -37.8120]])\n",
    "# print(directions)"
   ]
  },
  {
   "cell_type": "code",
   "execution_count": 14,
   "metadata": {},
   "outputs": [],
   "source": [
    "def get_time_proximity_from_property(row, cities):\n",
    "    city = cities.iloc[int(row['city_index'])]\n",
    "    coordinates = [[row['lng'], row['lat']], [city['lng'], city['lat']]]\n",
    "    time = get_time_proximity(coordinates)\n",
    "    # print(time)\n",
    "    return time"
   ]
  },
  {
   "cell_type": "code",
   "execution_count": null,
   "metadata": {},
   "outputs": [],
   "source": [
    "coords.shape"
   ]
  },
  {
   "cell_type": "code",
   "execution_count": null,
   "metadata": {},
   "outputs": [],
   "source": [
    "# dist time matching\n",
    "coords[\"time_city\"] = coords.progress_apply(lambda row: get_time_proximity_from_property(row, parks_df), axis=1)\n",
    "# property_df.to_csv(f\"../data/raw/property/rent_{i}_ptv.csv\", index=False)"
   ]
  },
  {
   "cell_type": "code",
   "execution_count": null,
   "metadata": {},
   "outputs": [],
   "source": [
    "err_count"
   ]
  },
  {
   "cell_type": "markdown",
   "metadata": {},
   "source": [
    "## output intermediate result\n",
    "This can be used to join on latlng directly"
   ]
  },
  {
   "cell_type": "code",
   "execution_count": 21,
   "metadata": {},
   "outputs": [],
   "source": [
    "coords.to_csv(output_dir, index=False)"
   ]
  },
  {
   "cell_type": "markdown",
   "metadata": {},
   "source": [
    "# join to orginal dataset"
   ]
  },
  {
   "cell_type": "markdown",
   "metadata": {},
   "source": [
    "## read all"
   ]
  },
  {
   "cell_type": "code",
   "execution_count": 28,
   "metadata": {},
   "outputs": [],
   "source": [
    "import sys, os\n",
    "import pandas as pd\n",
    "import geopandas as gpd\n",
    "sys.path.append(\"../\")\n",
    "from scripts.proximity import proximity_hard_join, proximity_sjoin"
   ]
  },
  {
   "cell_type": "code",
   "execution_count": 33,
   "metadata": {},
   "outputs": [],
   "source": [
    "cleaned_df = pd.read_csv(property_data_path)\n",
    "city_df = pd.read_csv(city_output)"
   ]
  },
  {
   "cell_type": "code",
   "execution_count": null,
   "metadata": {},
   "outputs": [],
   "source": [
    "cleaned_df"
   ]
  },
  {
   "cell_type": "code",
   "execution_count": null,
   "metadata": {},
   "outputs": [],
   "source": [
    "proximity_sjoin(cleaned_df, city_df).shape"
   ]
  },
  {
   "cell_type": "code",
   "execution_count": null,
   "metadata": {},
   "outputs": [],
   "source": [
    "city_df['time_city'].value_counts()"
   ]
  },
  {
   "cell_type": "code",
   "execution_count": null,
   "metadata": {},
   "outputs": [],
   "source": [
    "import pandas as pd\n",
    "import geopandas as gpd\n",
    "from shapely.geometry import Point\n",
    "city_coords = pd.read_csv(f\"../data/raw/time_city.csv\")\n",
    "gdf_city_coords = gpd.GeoDataFrame(city_coords, geometry=gpd.points_from_xy(city_coords.lng, city_coords.lat))\n",
    "gpd_cleaned_df = gpd.GeoDataFrame(cleaned_df, geometry=gpd.points_from_xy(cleaned_df.lng, cleaned_df.lat))\n",
    "\n",
    "# Ensure both GeoDataFrames have the same CRS (Coordinate Reference System)\n",
    "gdf_city_coords = gdf_city_coords.set_crs(\"EPSG:4326\")\n",
    "gpd_cleaned_df = gpd_cleaned_df.set_crs(\"EPSG:4326\")\n",
    "\n",
    "# Perform the nearest spatial join\n",
    "joined_gdf = gpd.sjoin_nearest(gpd_cleaned_df,gdf_city_coords[['geometry','time_city']], how=\"left\",rsuffix='city_coords')\n",
    "joined_gdf.drop(columns=['index_city_coords'],inplace=True)\n"
   ]
  },
  {
   "cell_type": "code",
   "execution_count": null,
   "metadata": {},
   "outputs": [],
   "source": [
    "gpd_cleaned_df\n"
   ]
  },
  {
   "cell_type": "code",
   "execution_count": null,
   "metadata": {},
   "outputs": [],
   "source": [
    "cleaned_df.dtypes"
   ]
  }
 ],
 "metadata": {
  "kernelspec": {
   "display_name": ".venv",
   "language": "python",
   "name": "python3"
  },
  "language_info": {
   "codemirror_mode": {
    "name": "ipython",
    "version": 3
   },
   "file_extension": ".py",
   "mimetype": "text/x-python",
   "name": "python",
   "nbconvert_exporter": "python",
   "pygments_lexer": "ipython3",
   "version": "3.10.12"
  }
 },
 "nbformat": 4,
 "nbformat_minor": 2
}
