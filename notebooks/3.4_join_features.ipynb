{
 "cells": [
  {
   "cell_type": "markdown",
   "metadata": {},
   "source": [
    "# Joining Features"
   ]
  },
  {
   "cell_type": "code",
   "execution_count": 1,
   "metadata": {},
   "outputs": [],
   "source": [
    "import pandas as pd\n",
    "import json\n",
    "\n",
    "from tqdm.auto import tqdm\n",
    "tqdm.pandas()\n",
    "\n",
    "import sys, os\n",
    "sys.path.append(os.path.abspath('../'))\n",
    "from scripts.utils import create_dir\n",
    "import time\n",
    "start_time = time.time()"
   ]
  },
  {
   "cell_type": "markdown",
   "metadata": {},
   "source": [
    "## Preparing the Historical Dataset (2017-2023)"
   ]
  },
  {
   "cell_type": "code",
   "execution_count": null,
   "metadata": {},
   "outputs": [],
   "source": [
    "rental_hist_df = pd.read_csv('../data/curated/rental_data_cleaned.csv')\n",
    "rental_hist_df.rename(columns={'sa2_code_left': 'sa2_code'}, inplace=True)\n",
    "rental_hist_df = rental_hist_df[\n",
    "    [\n",
    "        'address', 'suburb', 'bed', 'bath', 'car', 'type', 'year', 'sa2_code',\n",
    "        'median_income', 'population', 'cpi', 'unemployment_rate',\n",
    "        'lat', 'lng',  'geometry', 'rented_price'\n",
    "    ]\n",
    "]\n",
    "# strip only beginning whitespace character in suburb\n",
    "rental_hist_df['suburb'] = rental_hist_df['suburb'].str.lstrip()\n",
    "# convert sa2_code to string\n",
    "rental_hist_df['sa2_code'] = rental_hist_df['sa2_code'].astype('Int64').astype(str)\n",
    "# remove type that is not house or unit\n",
    "rental_hist_df = rental_hist_df[\n",
    "    rental_hist_df['type'].isin(['House', 'Unit/apmt'])\n",
    "]\n",
    "rental_hist_df"
   ]
  },
  {
   "cell_type": "code",
   "execution_count": null,
   "metadata": {},
   "outputs": [],
   "source": [
    "proximity_hist_df = pd.read_csv('../data/raw/proximity/time_city.csv')\n",
    "proximity_hist_df"
   ]
  },
  {
   "cell_type": "code",
   "execution_count": null,
   "metadata": {},
   "outputs": [],
   "source": [
    "price_df = pd.read_csv('../data/raw/property-buy-sell/oldlistings_buy_avg.csv')\n",
    "price_hist_df = price_df[\n",
    "    (price_df['year'] >= 2017) &\n",
    "    (price_df['year'] <= 2023)\n",
    "]\n",
    "price_hist_df"
   ]
  },
  {
   "cell_type": "markdown",
   "metadata": {},
   "source": [
    "Join historical"
   ]
  },
  {
   "cell_type": "code",
   "execution_count": null,
   "metadata": {},
   "outputs": [],
   "source": [
    "hist_df = rental_hist_df.merge(proximity_hist_df, on=['lat', 'lng'], how='inner')\n",
    "hist_df = hist_df.merge(price_hist_df, on=['suburb', 'year'], how='inner')\n",
    "hist_df"
   ]
  },
  {
   "cell_type": "markdown",
   "metadata": {},
   "source": [
    "## Preparing the Current Dataset (2024)"
   ]
  },
  {
   "cell_type": "code",
   "execution_count": null,
   "metadata": {},
   "outputs": [],
   "source": [
    "rental_curr_df = pd.read_csv('../data/raw/rental/rental_data_2024.csv')\n",
    "#rename\n",
    "rental_curr_df = rental_curr_df.rename(columns={\n",
    "    'cpi_x': 'cpi',\n",
    "    'Statistical Areas Level 2 2021 name': 'sa2_name'\n",
    "})\n",
    "rental_curr_df = rental_curr_df[\n",
    "    [\n",
    "        'address', 'suburb', 'bed', 'bath', 'car', 'type', 'year', 'sa2_code',\n",
    "        'median_income', 'population', 'cpi', 'unemployment_rate',\n",
    "        'lat', 'lng',  'geometry', 'rented_price'\n",
    "    ]\n",
    "]\n",
    "# strip only beginning whitespace character in suburb\n",
    "rental_curr_df['suburb'] = rental_curr_df['suburb'].str.lstrip()\n",
    "# convert sa2_code to string\n",
    "rental_curr_df['sa2_code'] = rental_curr_df['sa2_code'].astype('Int64').astype(str)\n",
    "# remove type that is not house or unit\n",
    "rental_curr_df = rental_curr_df[\n",
    "    rental_curr_df['type'].isin(['House', 'Unit/apmt'])\n",
    "]\n",
    "rental_curr_df"
   ]
  },
  {
   "cell_type": "code",
   "execution_count": null,
   "metadata": {},
   "outputs": [],
   "source": [
    "proximity_curr_df = pd.read_csv('../data/raw/proximity/time_city_2024.csv')\n",
    "proximity_curr_df"
   ]
  },
  {
   "cell_type": "code",
   "execution_count": null,
   "metadata": {},
   "outputs": [],
   "source": [
    "price_curr_df = price_df[price_df['year'] == 2024]\n",
    "price_curr_df"
   ]
  },
  {
   "cell_type": "code",
   "execution_count": null,
   "metadata": {},
   "outputs": [],
   "source": [
    "curr_df = rental_curr_df.merge(proximity_curr_df, on=['lat', 'lng'], how='inner')\n",
    "curr_df = curr_df.merge(price_curr_df, on=['suburb', 'year'], how='inner')\n",
    "curr_df"
   ]
  },
  {
   "cell_type": "code",
   "execution_count": null,
   "metadata": {},
   "outputs": [],
   "source": [
    "# Join historical and current data\n",
    "df = pd.concat([hist_df, curr_df], ignore_index=True)\n",
    "df"
   ]
  },
  {
   "cell_type": "markdown",
   "metadata": {},
   "source": [
    "## Preparing Future Dataset (2029)"
   ]
  },
  {
   "cell_type": "code",
   "execution_count": null,
   "metadata": {},
   "outputs": [],
   "source": [
    "# Create dictionary for unique suburb as key and SA2 code as value\n",
    "suburb_sa2_dict = \\\n",
    "    df[['suburb', 'sa2_code']] \\\n",
    "        .drop_duplicates(). \\\n",
    "            set_index('suburb') \\\n",
    "                .to_dict()['sa2_code']\n",
    "suburb_sa2_dict"
   ]
  },
  {
   "cell_type": "code",
   "execution_count": null,
   "metadata": {},
   "outputs": [],
   "source": [
    "df['type'].unique()"
   ]
  },
  {
   "cell_type": "code",
   "execution_count": null,
   "metadata": {},
   "outputs": [],
   "source": [
    "future_df = df[[\n",
    "    'suburb', 'type', 'sa2_code', 'bed', 'bath', 'car', 'time_city',\n",
    "    'avg_property_price', 'rented_price'\n",
    "]]\n",
    "future_df"
   ]
  },
  {
   "cell_type": "code",
   "execution_count": null,
   "metadata": {},
   "outputs": [],
   "source": [
    "# group by suburb, type, and sa2_code - aggregate by average for the rest\n",
    "future_df = future_df.groupby([\n",
    "    'suburb', 'type', 'sa2_code'\n",
    "]).agg({\n",
    "    'bed': 'mean',\n",
    "    'bath': 'mean',\n",
    "    'car': 'mean',\n",
    "    'time_city': 'mean',\n",
    "    'avg_property_price': 'mean',\n",
    "    'rented_price': 'mean'\n",
    "}).reset_index()\n",
    "future_df"
   ]
  },
  {
   "cell_type": "code",
   "execution_count": null,
   "metadata": {},
   "outputs": [],
   "source": [
    "# import future predictions data\n",
    "\n",
    "# CPI\n",
    "future_cpi = pd.read_csv('../data/raw/predictions/cpi_data.csv')\n",
    "future_cpi_2029 = float(\n",
    "    future_cpi[future_cpi['year'] == 2029]['Annual change (%)'] \\\n",
    "    .iloc[0]\n",
    ")\n",
    "\n",
    "# Unemployment rate\n",
    "future_unemployment = pd.read_csv('../data/raw/predictions/yearly_avg_unemployment.csv')\n",
    "future_unemployment_2029 = float(\n",
    "    future_unemployment[\n",
    "        future_unemployment['year'] == 2029\n",
    "    ]['Yearly Average Seasonally Adjusted (%)'] \\\n",
    "    .iloc[0]\n",
    "\n",
    ")\n",
    "\n",
    "# Median income\n",
    "future_income = pd.read_csv('../data/raw/predictions/predicted_median_income.csv')\n",
    "future_income_2029_df = future_income[\n",
    "    future_income['year'] == 2029\n",
    "][['sa2_code', 'median_income']]\n",
    "future_income_2029_df['sa2_code'] = future_income_2029_df['sa2_code'].astype(str)\n",
    "\n",
    "# Population\n",
    "future_population = pd.read_csv('../data/raw/predictions/population_prediction.csv')\n",
    "future_population_2029_df = future_population[\n",
    "    future_population['year'] == 2029\n",
    "][['Statistical Areas Level 2 2021 code', 'Projected persons (total)']]\n",
    "future_population_2029_df = future_population_2029_df.rename(columns={\n",
    "    'Statistical Areas Level 2 2021 code': 'sa2_code',\n",
    "    'Projected persons (total)': 'population'\n",
    "})\n",
    "future_population_2029_df['sa2_code'] = future_population_2029_df['sa2_code'].astype(str)\n",
    "\n",
    "# merge future predictions data\n",
    "future_df_merge = future_df.merge(future_income_2029_df, on='sa2_code', how='inner')\n",
    "future_df_merge = future_df_merge.merge(future_population_2029_df, on='sa2_code', how='inner')\n",
    "future_df_merge['cpi'] = future_cpi_2029\n",
    "future_df_merge['unemployment_rate'] = future_unemployment_2029\n",
    "future_df_merge"
   ]
  },
  {
   "cell_type": "markdown",
   "metadata": {},
   "source": [
    "## Output to CSVs"
   ]
  },
  {
   "cell_type": "code",
   "execution_count": null,
   "metadata": {},
   "outputs": [],
   "source": [
    "output = False\n",
    "if output:\n",
    "    create_dir('../data/curated')\n",
    "    # df.to_csv('../data/curated/rental-17-24.csv', index=False)\n",
    "    future_df_merge.to_csv('../data/curated/suburb-rental-29.csv', index=False)\n",
    "    with open('../data/curated/suburb_to_sa2.json', 'w') as f:\n",
    "        json.dump(suburb_sa2_dict, f)"
   ]
  }
 ],
 "metadata": {
  "kernelspec": {
   "display_name": ".venv",
   "language": "python",
   "name": "python3"
  },
  "language_info": {
   "codemirror_mode": {
    "name": "ipython",
    "version": 3
   },
   "file_extension": ".py",
   "mimetype": "text/x-python",
   "name": "python",
   "nbconvert_exporter": "python",
   "pygments_lexer": "ipython3",
   "version": "3.12.4"
  }
 },
 "nbformat": 4,
 "nbformat_minor": 2
}
