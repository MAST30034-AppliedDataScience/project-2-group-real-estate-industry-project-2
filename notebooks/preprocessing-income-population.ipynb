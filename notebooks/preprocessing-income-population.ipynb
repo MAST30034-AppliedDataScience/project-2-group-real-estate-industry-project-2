{
 "cells": [
  {
   "cell_type": "markdown",
   "metadata": {},
   "source": [
    "# Preprocessing Income and Population Data\n",
    "- This notebook preprocesses the income and population data.\n",
    "- The preprocessed datasets are exported into the `./data/raw` directory."
   ]
  },
  {
   "cell_type": "markdown",
   "metadata": {},
   "source": [
    "Import relevant libraries."
   ]
  },
  {
   "cell_type": "code",
   "execution_count": 1,
   "metadata": {},
   "outputs": [],
   "source": [
    "import sys, os\n",
    "sys.path.append(os.path.abspath('../'))\n",
    "from scripts.utils import create_dir, get_runtime\n",
    "import time \n",
    "start_time = time.time()\n",
    "\n",
    "import pandas as pd\n",
    "import numpy as np\n",
    "import geopandas as gpd"
   ]
  },
  {
   "cell_type": "markdown",
   "metadata": {},
   "source": [
    "## Income"
   ]
  },
  {
   "cell_type": "markdown",
   "metadata": {},
   "source": [
    "### Load 2012-2016 and 2017-2021 Income datasets"
   ]
  },
  {
   "cell_type": "code",
   "execution_count": 2,
   "metadata": {},
   "outputs": [],
   "source": [
    "income_1_df_unclean = pd.read_excel(\"../data/landing/income/income-2012-2016.xls\",\n",
    "                            \"Table 1.4\",\n",
    "                            header=6)\n",
    "income_2_df_unclean = pd.read_excel(\"../data/landing/income/income-2017-2021.xlsx\",\n",
    "                            \"Table 1.4\",\n",
    "                            header=6)"
   ]
  },
  {
   "cell_type": "markdown",
   "metadata": {},
   "source": [
    "### Clean 2012-2016 Income"
   ]
  },
  {
   "cell_type": "code",
   "execution_count": null,
   "metadata": {},
   "outputs": [],
   "source": [
    "income_1_df = income_1_df_unclean.copy()[[\n",
    "    'SA2',\n",
    "    'SA2 NAME',\n",
    "    '2011-12.3',\n",
    "    '2012-13.3',\n",
    "    '2013-14.3',\n",
    "    '2014-15.3',\n",
    "    '2015-16.3'\n",
    "]]\n",
    "\n",
    "# Filter for Victoria SA2s (9-digit codes starting with '2')\n",
    "income_1_df['SA2'] = income_1_df['SA2'].astype(str)\n",
    "income_1_df = income_1_df.loc[\n",
    "    (income_1_df['SA2'].str.len() == 9) &\n",
    "    (income_1_df['SA2'].str.startswith('2'))\n",
    "]\n",
    "# drop rows with value 'np'\n",
    "income_1_df = income_1_df.replace('np', np.nan)\n",
    "income_1_df = income_1_df.dropna()\n",
    "# Rename columns\n",
    "income_1_df.columns = [\n",
    "    'sa2_code',\n",
    "    'sa2_name',\n",
    "    '2012',\n",
    "    '2013',\n",
    "    '2014',\n",
    "    '2015',\n",
    "    '2016'\n",
    "]\n",
    "income_1_df"
   ]
  },
  {
   "cell_type": "markdown",
   "metadata": {},
   "source": [
    "### Clean 2017-2021 Income"
   ]
  },
  {
   "cell_type": "code",
   "execution_count": null,
   "metadata": {},
   "outputs": [],
   "source": [
    "income_2_df = income_2_df_unclean.copy()[[\n",
    "    'SA2',\n",
    "    'SA2 NAME',\n",
    "    '2016-17.3',\n",
    "    '2017-18.3',\n",
    "    '2018-19.3',\n",
    "    '2019-20.3',\n",
    "    '2020-21.3'\n",
    "]]\n",
    "\n",
    "# Filter for Victoria SA2s (9-digit codes starting with '2')\n",
    "income_2_df['SA2'] = income_2_df['SA2'].astype(str)\n",
    "income_2_df = income_2_df.loc[\n",
    "    (income_2_df['SA2'].str.len() == 9) &\n",
    "    (income_2_df['SA2'].str.startswith('2'))\n",
    "]\n",
    "\n",
    "# drop rows with value 'np'\n",
    "income_2_df = income_2_df.replace('np', np.nan)\n",
    "income_2_df = income_2_df.dropna()\n",
    "\n",
    "# Rename columns\n",
    "income_2_df.columns = [\n",
    "    'sa2_code',\n",
    "    'sa2_name',\n",
    "    '2017',\n",
    "    '2018',\n",
    "    '2019',\n",
    "    '2020',\n",
    "    '2021'\n",
    "]\n",
    "\n",
    "income_2_df.sort_values(by='sa2_name', inplace=True)\n",
    "income_2_df"
   ]
  },
  {
   "cell_type": "markdown",
   "metadata": {},
   "source": [
    "### Add SA2 geometries"
   ]
  },
  {
   "cell_type": "markdown",
   "metadata": {},
   "source": [
    "Use 2016 SA2 Digital Boundaries shapefile for `income_1_df`."
   ]
  },
  {
   "cell_type": "code",
   "execution_count": null,
   "metadata": {},
   "outputs": [],
   "source": [
    "sa2_2016 = gpd.read_file('../data/landing/sa2/sa2-16-shp/')\n",
    "sa2_2016\n",
    "sa2_2016 = sa2_2016[['SA2_MAIN16', 'geometry']]\n",
    "sa2_2016.columns = ['sa2_code', 'geometry']\n",
    "income_1_df = pd.merge(income_1_df, sa2_2016, on='sa2_code')\n",
    "income_1_df = income_1_df.melt(\n",
    "    id_vars=['sa2_code', 'sa2_name', 'geometry'],\n",
    "    value_vars=['2012', '2013', '2014', '2015', '2016'],\n",
    "    var_name='year',\n",
    "    value_name='median_income'\n",
    ")\n",
    "income_1_df['year'] = income_1_df['year'].astype(int)\n",
    "income_1_df"
   ]
  },
  {
   "cell_type": "markdown",
   "metadata": {},
   "source": [
    "Use 2021 SA2 Digital Boundaries shapefile for `income_2_df`."
   ]
  },
  {
   "cell_type": "code",
   "execution_count": null,
   "metadata": {},
   "outputs": [],
   "source": [
    "sa2_2021 = gpd.read_file('../data/landing/sa2/sa2-21-shp/')\n",
    "sa2_2021\n",
    "sa2_2021 = sa2_2021[['SA2_CODE21', 'geometry']]\n",
    "sa2_2021.columns = ['sa2_code', 'geometry']\n",
    "income_2_df = pd.merge(income_2_df, sa2_2021, on='sa2_code')\n",
    "income_2_df = income_2_df.melt(\n",
    "    id_vars=['sa2_code', 'sa2_name', 'geometry'],\n",
    "    value_vars=['2017', '2018', '2019', '2020', '2021'],\n",
    "    var_name='year',\n",
    "    value_name='median_income'\n",
    ")\n",
    "income_2_df['year'] = income_2_df['year'].astype(int)\n",
    "income_2_df"
   ]
  },
  {
   "cell_type": "markdown",
   "metadata": {},
   "source": [
    "### Push Income datasets to `raw` layer"
   ]
  },
  {
   "cell_type": "code",
   "execution_count": null,
   "metadata": {},
   "outputs": [],
   "source": [
    "create_dir('../data/raw/income')\n",
    "income_1_df.to_csv('../data/raw/income/income-12-16.csv', index=False)\n",
    "income_2_df.to_csv('../data/raw/income/income-17-21.csv', index=False)"
   ]
  },
  {
   "cell_type": "markdown",
   "metadata": {},
   "source": [
    "## Population"
   ]
  },
  {
   "cell_type": "markdown",
   "metadata": {},
   "source": [
    "### Load Population Dataset"
   ]
  },
  {
   "cell_type": "code",
   "execution_count": 8,
   "metadata": {},
   "outputs": [],
   "source": [
    "population_df = pd.read_excel(\"../data/landing/population/population.xlsx\",\n",
    "                         \"Table 1\",\n",
    "                         header = [5,6])"
   ]
  },
  {
   "cell_type": "markdown",
   "metadata": {},
   "source": [
    "### Clean"
   ]
  },
  {
   "cell_type": "code",
   "execution_count": null,
   "metadata": {},
   "outputs": [],
   "source": [
    "population_df.columns = [\n",
    "    (col[1] if str(col[0]).startswith('Unnamed') else col[0]) \\\n",
    "    for col in list(population_df.columns.values)\n",
    "]\n",
    "population_df = population_df.drop(\n",
    "    [\"GCCSA code\",\n",
    "    \"GCCSA name\",\n",
    "    \"SA3 code\",\n",
    "    \"SA3 name\",\n",
    "    \"SA4 code\",\n",
    "    \"SA4 name\"],\n",
    "    axis=1\n",
    ")\n",
    "population_df = population_df.dropna()\n",
    "population_df[\"SA2 code\"] = population_df[\"SA2 code\"].astype(int).astype(str)\n",
    "population_df = population_df.rename(columns={\"SA2 code\": \"sa2_code\",\n",
    "                                              \"SA2 name\": \"sa2_name\"})\n",
    "population_df = population_df.loc[\n",
    "    (population_df['sa2_code'].str.len() == 9) &\n",
    "    (population_df['sa2_code'].str.startswith('2'))\n",
    "]\n",
    "year_cols = population_df.columns[2:]\n",
    "population_df = population_df.melt(\n",
    "    id_vars=['sa2_code', 'sa2_name'],\n",
    "    value_vars=year_cols,\n",
    "    var_name='year',\n",
    "    value_name='population'\n",
    ")\n",
    "population_df['year'] = population_df['year'].astype(int)\n",
    "population_df"
   ]
  },
  {
   "cell_type": "markdown",
   "metadata": {},
   "source": [
    "### Add SA2 Geometry"
   ]
  },
  {
   "cell_type": "code",
   "execution_count": null,
   "metadata": {},
   "outputs": [],
   "source": [
    "population_df = pd.merge(population_df, sa2_2021, on='sa2_code')\n",
    "population_df"
   ]
  },
  {
   "cell_type": "markdown",
   "metadata": {},
   "source": [
    "### Push Population Dataset to `raw` layer"
   ]
  },
  {
   "cell_type": "code",
   "execution_count": null,
   "metadata": {},
   "outputs": [],
   "source": [
    "create_dir('../data/raw/population')\n",
    "population_df.to_csv('../data/raw/population/population-01-23.csv', index=False)"
   ]
  },
  {
   "cell_type": "code",
   "execution_count": 12,
   "metadata": {},
   "outputs": [],
   "source": [
    "# shape_1 = pd.read_csv(\"../data/landing/ptv/1/1/shapes.txt\")\n",
    "# stops_1 = pd.read_csv(\"../data/landing/ptv/1/1/stops.txt\")\n",
    "# stops_1 = stops_1.loc[:,[\"stop_name\",\"stop_lat\",\"stop_lon\"]]\n",
    "# gdf_stops_1 = gpd.GeoDataFrame(\n",
    "#     stops_1,\n",
    "#     geometry=gpd.points_from_xy(stops_1['stop_lon'], stops_1['stop_lat'])\n",
    "# )"
   ]
  },
  {
   "cell_type": "markdown",
   "metadata": {},
   "source": [
    "Get notebook runtime."
   ]
  },
  {
   "cell_type": "code",
   "execution_count": null,
   "metadata": {},
   "outputs": [],
   "source": [
    "print(get_runtime(start_time))"
   ]
  }
 ],
 "metadata": {
  "kernelspec": {
   "display_name": "Python 3",
   "language": "python",
   "name": "python3"
  },
  "language_info": {
   "codemirror_mode": {
    "name": "ipython",
    "version": 3
   },
   "file_extension": ".py",
   "mimetype": "text/x-python",
   "name": "python",
   "nbconvert_exporter": "python",
   "pygments_lexer": "ipython3",
   "version": "3.12.4"
  }
 },
 "nbformat": 4,
 "nbformat_minor": 2
}
