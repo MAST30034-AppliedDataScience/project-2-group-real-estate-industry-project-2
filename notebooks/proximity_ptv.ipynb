{
 "cells": [
  {
   "cell_type": "markdown",
   "metadata": {},
   "source": [
    "This notebook performs proximity analysis using a locally installed ORS server and Australian map data. It involves loading datasets related to rental properties and public transport (PTV) stops, calculating the nearest PTV stops for each property, and determining the travel time to these stops using the ORS server. The results are then merged with the original dataset and saved for further analysis."
   ]
  },
  {
   "cell_type": "code",
   "execution_count": null,
   "metadata": {},
   "outputs": [],
   "source": [
    "import pandas as pd\n",
    "import geopandas as gpd\n",
    "from shapely import wkt\n",
    "from shapely.geometry import Point\n",
    "from scipy.spatial import cKDTree\n",
    "import numpy as np\n",
    "import requests\n",
    "import json\n",
    "from tqdm.auto import tqdm\n",
    "tqdm.pandas()  # \"tqdm>=4.9.0\"\n",
    "school_path = \"../data/raw/school_zones/school_zones.csv\"\n",
    "ptv_path = \"../data/raw/ptv_zones/ptv_zones.csv\"\n",
    "property_path = \"../data/curated/rental-17-24.csv\"\n",
    "ors_url = \"http://localhost:8080/ors/v2/directions/foot-walking\"\n",
    "out_rental_path = \"../data/raw/property/rental_data_cleaned_ptv.csv\"\n",
    "out_mapping_path = \"../data/raw/property/rental_data_cleaned_ptv_mapping.csv\""
   ]
  },
  {
   "cell_type": "markdown",
   "metadata": {},
   "source": [
    "# Load Datasets"
   ]
  },
  {
   "cell_type": "markdown",
   "metadata": {},
   "source": [
    "## Rental"
   ]
  },
  {
   "cell_type": "code",
   "execution_count": 27,
   "metadata": {},
   "outputs": [],
   "source": [
    "property_df = pd.read_csv(open(property_path, \"r\"))"
   ]
  },
  {
   "cell_type": "code",
   "execution_count": 10,
   "metadata": {},
   "outputs": [],
   "source": [
    "property_df['geometry'] = property_df.apply(lambda row: Point(row['lng'], row['lat']), axis=1)"
   ]
  },
  {
   "cell_type": "markdown",
   "metadata": {},
   "source": [
    "## PTV"
   ]
  },
  {
   "cell_type": "code",
   "execution_count": 29,
   "metadata": {},
   "outputs": [],
   "source": [
    "paths = [\"../data/raw/PTV/1 - Regional Train/stops_1_sa2.csv\",\n",
    "         \"../data/raw/PTV/2 - Metropolitan Train/stops_2_sa2.csv\",\n",
    "         \"../data/raw/PTV/3 - Metropolitan Tram/stops_3_sa2.csv\", \n",
    "         \"../data/raw/PTV/4 - Metropolitan Bus/stops_4_sa2.csv\",\n",
    "         \"../data/raw/PTV/5 - Regional Coach/stops_5_sa2.csv\",\n",
    "         \"../data/raw/PTV/6 - Regional Bus/stops_6_sa2.csv\"]\n",
    "total_ptv_coords = []\n",
    "for path in paths:\n",
    "    ptv = pd.read_csv(path)\n",
    "    total_ptv_coords = total_ptv_coords + [ptv[['stop_lon','stop_lat']].values]\n",
    "    # total_ptv_coords = total_ptv_coords + ptv[['stop_lon','stop_lat']].values\\\n",
    "total_ptv_coords = np.concatenate(total_ptv_coords)"
   ]
  },
  {
   "cell_type": "markdown",
   "metadata": {},
   "source": [
    "# Proximity"
   ]
  },
  {
   "cell_type": "code",
   "execution_count": 31,
   "metadata": {},
   "outputs": [],
   "source": [
    "num_to_find = 3\n",
    "tree = cKDTree(total_ptv_coords)\n",
    "property_coords = property_df[['lng', 'lat']].values\n",
    "distances, indices = tree.query(property_coords, k=3)\n",
    "property_df[\"ptv_index\"] = list(indices)"
   ]
  },
  {
   "cell_type": "code",
   "execution_count": 32,
   "metadata": {},
   "outputs": [],
   "source": [
    "def get_time_proximity(coordinates):\n",
    "    url = ors_url\n",
    "    body = {\"coordinates\": coordinates}\n",
    "    # print(body)\n",
    "    response = requests.post(url, json=body)\n",
    "    try:\n",
    "        if response.status_code == 200:\n",
    "            summary = response.json()[\"routes\"][0][\"summary\"]\n",
    "            if \"duration\" in summary:\n",
    "                return summary[\"duration\"]\n",
    "            return 0\n",
    "        else:\n",
    "            if(response.json()[\"error\"][\"code\"] == 2004):\n",
    "                # distance is too long (> 100000.0 m)\n",
    "                return -1\n",
    "            if(response.json()[\"error\"][\"code\"] == 2010):\n",
    "                # \"error\":{\"code\":2010,\"message\":\"Could not find routable point within a radius of 400.0 meters of specified coordinate\n",
    "                return -1\n",
    "            print(body)\n",
    "            print(response.text)\n",
    "            raise Exception(\"Error in request\")\n",
    "    except Exception as e:\n",
    "        print(response.json())\n",
    "        raise e\n",
    "\n",
    "# # Example usage\n",
    "# directions = get_time_proximity([[144.96332, -37.8140], [144.96332, -37.8120]])\n",
    "# print(directions)"
   ]
  },
  {
   "cell_type": "code",
   "execution_count": 49,
   "metadata": {},
   "outputs": [],
   "source": [
    "def get_time_proximity_from_property(row, ptv_stop_coords,tree):\n",
    "    min_time = -1\n",
    "    # if(num_to_find == 1):\n",
    "    #     coordinates = [[row['lng'], row['lat']], ptv_stop_coords[indices].tolist()]\n",
    "    #     return get_time_proximity(coordinates)\n",
    "    for index in row['ptv_index']:\n",
    "        coordinates = [[row['lng'], row['lat']], ptv_stop_coords[index].tolist()]\n",
    "        time = get_time_proximity(coordinates)\n",
    "        # print(time)\n",
    "        if min_time == -1:\n",
    "            min_time = time\n",
    "        min_time = min(time,min_time)\n",
    "    # coordinates = [[row['lng'], row['lat']], ptv_stop_coords[IndexError].tolist()]\n",
    "    # return get_time_proximity(coordinates)\n",
    "    # print(min_time)\n",
    "    \n",
    "    return min_time"
   ]
  },
  {
   "cell_type": "code",
   "execution_count": null,
   "metadata": {},
   "outputs": [],
   "source": [
    "i=5\n",
    "\n",
    "path = f\"../data/raw/oldlistings_rent_{i}.json\"\n",
    "property_df = pd.read_json(open(path, \"r\"))\n",
    "\n",
    "# get index of the closest ptv stop\n",
    "property_coords = property_df[['lng', 'lat']].values\n",
    "distances, indices = tree.query(property_coords, k=3)\n",
    "property_df[\"ptv_index\"] = list(indices)\n",
    "\n",
    "# dist time matching\n",
    "property_df[\"time_to_ptv_1\"] = property_df.progress_apply(lambda row: get_time_proximity_from_property(row, total_ptv_coords, tree), axis=1)\n",
    "property_df.to_csv(f\"../data/raw/property/rent_{i}_ptv.csv\", index=False)"
   ]
  },
  {
   "cell_type": "code",
   "execution_count": null,
   "metadata": {},
   "outputs": [],
   "source": []
  },
  {
   "cell_type": "markdown",
   "metadata": {},
   "source": [
    "# join to orginal dataset"
   ]
  },
  {
   "cell_type": "markdown",
   "metadata": {},
   "source": [
    "## read all"
   ]
  },
  {
   "cell_type": "code",
   "execution_count": 3,
   "metadata": {},
   "outputs": [],
   "source": [
    "cleaned_df = pd.read_csv(\"../data/raw/property/rental_data_cleaned.csv\")"
   ]
  },
  {
   "cell_type": "code",
   "execution_count": null,
   "metadata": {},
   "outputs": [],
   "source": [
    "cleaned_df['date'].drop_duplicates().sort_values()"
   ]
  },
  {
   "cell_type": "code",
   "execution_count": 5,
   "metadata": {},
   "outputs": [],
   "source": [
    "# read all the ptv data\n",
    "all_ptv = pd.concat([pd.read_csv(f\"../data/raw/property/rent_{i}_ptv.csv\") for i in range(1,6)])"
   ]
  },
  {
   "cell_type": "code",
   "execution_count": null,
   "metadata": {},
   "outputs": [],
   "source": [
    "cleaned_df"
   ]
  },
  {
   "cell_type": "code",
   "execution_count": 17,
   "metadata": {},
   "outputs": [],
   "source": [
    "all_ptv['ptv_time'] = all_ptv['time_to_ptv_1']\n",
    "all_ptv = all_ptv[['lat','lng','address','ptv_time']]\n",
    "all"
   ]
  },
  {
   "cell_type": "code",
   "execution_count": 37,
   "metadata": {},
   "outputs": [],
   "source": [
    "all_ptv = all_ptv.drop_duplicates()"
   ]
  },
  {
   "cell_type": "code",
   "execution_count": 38,
   "metadata": {},
   "outputs": [],
   "source": [
    "merged_df = cleaned_df.merge(all_ptv, on=['lat','lng','address'], how='left')"
   ]
  },
  {
   "cell_type": "code",
   "execution_count": null,
   "metadata": {},
   "outputs": [],
   "source": [
    "merged_df.shape"
   ]
  },
  {
   "cell_type": "code",
   "execution_count": null,
   "metadata": {},
   "outputs": [],
   "source": [
    "cleaned_df.shape"
   ]
  },
  {
   "cell_type": "code",
   "execution_count": 24,
   "metadata": {},
   "outputs": [],
   "source": [
    "unmatched_rows = merged_df[merged_df['ptv_time'].isna()]"
   ]
  },
  {
   "cell_type": "code",
   "execution_count": 33,
   "metadata": {},
   "outputs": [],
   "source": [
    "duplicated_rows = all_ptv[all_ptv.duplicated(subset=['lat', 'lng', 'address'], keep=False)]"
   ]
  },
  {
   "cell_type": "code",
   "execution_count": null,
   "metadata": {},
   "outputs": [],
   "source": [
    "all_ptv.drop_duplicates().shape"
   ]
  },
  {
   "cell_type": "code",
   "execution_count": 41,
   "metadata": {},
   "outputs": [],
   "source": [
    "merged_df.to_csv(out_rental_path, index=False)"
   ]
  },
  {
   "cell_type": "markdown",
   "metadata": {},
   "source": [
    "# Store Data in forms of a mapping"
   ]
  },
  {
   "cell_type": "code",
   "execution_count": 2,
   "metadata": {},
   "outputs": [],
   "source": [
    "data = pd.read_csv(out_rental_path)"
   ]
  },
  {
   "cell_type": "code",
   "execution_count": 6,
   "metadata": {},
   "outputs": [],
   "source": [
    "data[['ptv_time','lat','lng']].drop_duplicates().to_csv(out_mapping_path, index=False)"
   ]
  }
 ],
 "metadata": {
  "kernelspec": {
   "display_name": ".venv",
   "language": "python",
   "name": "python3"
  },
  "language_info": {
   "codemirror_mode": {
    "name": "ipython",
    "version": 3
   },
   "file_extension": ".py",
   "mimetype": "text/x-python",
   "name": "python",
   "nbconvert_exporter": "python",
   "pygments_lexer": "ipython3",
   "version": "3.10.12"
  }
 },
 "nbformat": 4,
 "nbformat_minor": 2
}
