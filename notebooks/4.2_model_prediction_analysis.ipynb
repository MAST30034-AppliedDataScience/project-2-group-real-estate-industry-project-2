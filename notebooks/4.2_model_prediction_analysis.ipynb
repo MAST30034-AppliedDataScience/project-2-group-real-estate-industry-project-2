{
 "cells": [
  {
   "cell_type": "markdown",
   "metadata": {},
   "source": [
    "\n",
    "# Summary of the Notebook\n",
    "\n",
    "This notebook processes rental data from 2017 to 2024 and predicts rental prices for the years 2025 to 2027. The workflow includes the following steps:\n",
    "\n",
    "1. **Data Import**:\n",
    "    - Import necessary libraries and read the rental data and prediction data from CSV files.\n",
    "\n",
    "2. **Data Preparation**:\n",
    "    - Filter and select relevant columns from the rental data.\n",
    "    - Separate the data into house and unit/apartment types.\n",
    "\n",
    "3. **Yearly Data Aggregation**:\n",
    "    - Define a function to aggregate rental prices yearly for both house and unit/apartment data.\n",
    "\n",
    "4. **Prediction Merging**:\n",
    "    - Define a function to merge the yearly aggregated data with prediction data for different models.\n",
    "    - Combine the predictions with the confidence scores.\n",
    "\n",
    "5. **Data Export**:\n",
    "    - Export the final processed data to CSV files for houses and units/apartments.\n",
    "\n",
    "This notebook provides a comprehensive approach to analyzing rental trends and predicting future rental prices using historical data and various prediction models.\n"
   ]
  },
  {
   "cell_type": "markdown",
   "metadata": {},
   "source": [
    "# To yearly format for Growth"
   ]
  },
  {
   "cell_type": "code",
   "execution_count": 1,
   "metadata": {},
   "outputs": [],
   "source": [
    "import pandas as pd\n",
    "rental_df = pd.read_csv('../data/curated/rental-17-24.csv')\n",
    "pred_unit = pd.read_csv('../data/curated/predict_unit.csv')\n",
    "pred_house = pd.read_csv('../data/curated/predict_house.csv')"
   ]
  },
  {
   "cell_type": "code",
   "execution_count": 2,
   "metadata": {},
   "outputs": [],
   "source": [
    "rental_df = rental_df[[\n",
    "    'suburb', 'sa2_code', 'type', 'year', 'bed', 'bath', 'car', 'median_income',\n",
    "    'population', 'cpi', 'unemployment_rate', 'time_city', 'avg_property_price',\n",
    "    'rented_price'\n",
    "]]\n",
    "# rental_df = rental_df[rental_df[\"year\"] ==2024]\n",
    "\n",
    "house_df = rental_df[rental_df['type'] == 'House']\n",
    "unit_df = rental_df[rental_df['type'] == 'Unit/apmt']"
   ]
  },
  {
   "cell_type": "code",
   "execution_count": null,
   "metadata": {},
   "outputs": [],
   "source": []
  },
  {
   "cell_type": "code",
   "execution_count": 3,
   "metadata": {},
   "outputs": [],
   "source": [
    "# take mean of every column group by suburb\n",
    "# type2024 = type2024.drop('type',axis=1).groupby('suburb').mean().reset_index()\n",
    "\n",
    "def get_yearly(type_df):\n",
    "    type_all = None\n",
    "    for year in range(2017,2025):\n",
    "        type = type_df[type_df['year'] == year].drop('type',axis=1).groupby('suburb').mean().reset_index()[['suburb','rented_price']]\n",
    "        if type_all is None:\n",
    "            type_all = type.rename(columns={'rented_price':f'rented_price_{year}'})\n",
    "        else:\n",
    "            type_all = type_all.merge(type, on='suburb',how='left', suffixes=('', f'_{year}'))\n",
    "    return type_all\n",
    "house_all = get_yearly(house_df)\n",
    "unit_all = get_yearly(unit_df)"
   ]
  },
  {
   "cell_type": "code",
   "execution_count": 4,
   "metadata": {},
   "outputs": [],
   "source": [
    "def merge_pred(type_all, prediction):\n",
    "    df_list = []\n",
    "    for pred in ['pred_0r', 'pred_lr', 'pred_rf', 'pred_combine']: #\n",
    "        df_cur = type_all.copy()\n",
    "        for year in range(2025,2028):\n",
    "            pred_cur = prediction[prediction['year'] == year][['suburb', pred]]\n",
    "            pred_cur.rename(columns={pred:f\"pred_{year}\"}, inplace=True)\n",
    "            df_cur = df_cur.merge(pred_cur, on=['suburb'],how='left', suffixes=('', ''))\n",
    "        df_cur['model']=pred.split('_')[1]\n",
    "        df_list.append(df_cur)\n",
    "    confi_df = prediction[prediction['year'] == 2025][['suburb','confidence']]\n",
    "    res_df = pd.concat(df_list)\n",
    "    res_df = res_df.merge(confi_df, on='suburb', how='left')\n",
    "    return res_df\n",
    "house_final = merge_pred(house_all, pred_house)\n",
    "unit_final = merge_pred(unit_all, pred_unit)"
   ]
  },
  {
   "cell_type": "code",
   "execution_count": 5,
   "metadata": {},
   "outputs": [],
   "source": [
    "house_final.to_csv('../data/curated/house_yearly.csv')\n",
    "unit_final.to_csv('../data/curated/unit_yearly.csv')"
   ]
  }
 ],
 "metadata": {
  "kernelspec": {
   "display_name": ".venv",
   "language": "python",
   "name": "python3"
  },
  "language_info": {
   "codemirror_mode": {
    "name": "ipython",
    "version": 3
   },
   "file_extension": ".py",
   "mimetype": "text/x-python",
   "name": "python",
   "nbconvert_exporter": "python",
   "pygments_lexer": "ipython3",
   "version": "3.10.12"
  }
 },
 "nbformat": 4,
 "nbformat_minor": 2
}
