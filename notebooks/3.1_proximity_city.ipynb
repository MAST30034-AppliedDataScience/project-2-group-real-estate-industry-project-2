{
 "cells": [
  {
   "cell_type": "markdown",
   "metadata": {},
   "source": [
    "# Summary of the Notebook\n",
    "\n",
    "This notebook performs proximity analysis using a locally installed ORS server and a map of Australia. The main steps include:\n",
    "\n",
    "1. **Loading Data**:\n",
    "    - Property data and city data are loaded from CSV files.\n",
    "\n",
    "2. **Data Preparation**:\n",
    "    - Coordinates are extracted and processed.\n",
    "    - City information is prepared with latitude and longitude.\n",
    "\n",
    "3. **Proximity Calculation**:\n",
    "    - A KD-Tree is used to find the nearest city for each property.\n",
    "    - Travel time proximity is calculated using the ORS server.\n",
    "\n",
    "4. **Data Joining**:\n",
    "    - The calculated proximity data is joined back to the original dataset.\n",
    "\n",
    "5. **Analysis and Export**:\n",
    "    - The results are analyzed and exported to CSV files.\n"
   ]
  },
  {
   "cell_type": "code",
   "execution_count": null,
   "metadata": {},
   "outputs": [],
   "source": [
    "import pandas as pd\n",
    "import geopandas as gpd\n",
    "from shapely import wkt\n",
    "from shapely.geometry import Point\n",
    "from scipy.spatial import cKDTree\n",
    "import numpy as np\n",
    "import requests\n",
    "import json\n",
    "from tqdm.auto import tqdm\n",
    "import matplotlib.pyplot as plt\n",
    "tqdm.pandas()  # \"tqdm>=4.9.0\""
   ]
  },
  {
   "cell_type": "markdown",
   "metadata": {},
   "source": [
    "# Load data"
   ]
  },
  {
   "cell_type": "markdown",
   "metadata": {},
   "source": [
    "## property data"
   ]
  },
  {
   "cell_type": "code",
   "execution_count": 27,
   "metadata": {},
   "outputs": [],
   "source": [
    "property_data_path = \"../data/raw/property/rental_data_2024.csv\"\n",
    "city_output = \"../data/raw/time_city_2024.csv\"\n",
    "property_df = pd.read_csv(property_data_path)\n"
   ]
  },
  {
   "cell_type": "code",
   "execution_count": 14,
   "metadata": {},
   "outputs": [],
   "source": [
    "coords = property_df[['lat', 'lng']].drop_duplicates()"
   ]
  },
  {
   "cell_type": "markdown",
   "metadata": {},
   "source": [
    "## City\n",
    "according to wikipedia, the top 4 city in victoria is\n",
    "1.\tMelbourne\t\n",
    "2.\tGeelong\t\n",
    "3.\tBallarat\n",
    "4.\tBendigo"
   ]
  },
  {
   "cell_type": "code",
   "execution_count": 15,
   "metadata": {},
   "outputs": [],
   "source": [
    "city = pd.DataFrame({'locations': [\"-37.814819636878, 144.96639135042003\",\n",
    "                                   \"-38.14928665137738, 144.35990084446854\",\n",
    "                                   \"-37.56151637411765, 143.85484215682467\",\n",
    "                                   \"-36.75960898491938, 144.2786689721445\"],\n",
    "                     'city': [\"Melbourne\", \"Geelong\", \"Ballarat\", \"Bendigo\"]})\n",
    "city['lat'] = city['locations'].apply(lambda x: float(x.split(\",\")[0]))\n",
    "city['lng'] = city['locations'].apply(lambda x: float(x.split(\",\")[1]))\n",
    "city['Point'] = city.apply(lambda x: Point(x['lng'], x['lat']), axis=1)"
   ]
  },
  {
   "cell_type": "markdown",
   "metadata": {},
   "source": [
    "# Proximity"
   ]
  },
  {
   "cell_type": "code",
   "execution_count": 16,
   "metadata": {},
   "outputs": [],
   "source": [
    "num_to_find = 3\n",
    "tree = cKDTree(city[['lng', 'lat']].values)\n",
    "property_coords = coords[['lng', 'lat']].values\n",
    "distances, indices = tree.query(property_coords, k=1)\n",
    "coords[\"city_index\"] = list(indices)"
   ]
  },
  {
   "cell_type": "code",
   "execution_count": null,
   "metadata": {},
   "outputs": [],
   "source": [
    "coords[\"city_index\"].value_counts()"
   ]
  },
  {
   "cell_type": "code",
   "execution_count": 18,
   "metadata": {},
   "outputs": [],
   "source": [
    "from collections import defaultdict\n",
    "err_count = defaultdict(int)\n",
    "def get_time_proximity(coordinates):\n",
    "    url = \"http://localhost:8080/ors/v2/directions/driving-car\"\n",
    "    body = {\"coordinates\": coordinates}\n",
    "    # print(body)\n",
    "    response = requests.post(url, json=body)\n",
    "    try:\n",
    "        if response.status_code == 200:\n",
    "            summary = response.json()[\"routes\"][0][\"summary\"]\n",
    "            if \"duration\" in summary:\n",
    "                return summary[\"duration\"]\n",
    "            return 0\n",
    "        else:\n",
    "            \n",
    "            if(response.json()[\"error\"][\"code\"] == 2004):\n",
    "                # distance is too long (> 100000.0 m)\n",
    "                err_count[2004] += 1\n",
    "                return -1\n",
    "            if(response.json()[\"error\"][\"code\"] == 2010):\n",
    "                err_count[2010] += 1\n",
    "                # \"error\":{\"code\":2010,\"message\":\"Could not find routable point within a radius of 400.0 meters of specified coordinate\n",
    "                return -1\n",
    "            print(response.text)\n",
    "            print(body)\n",
    "            \n",
    "            raise Exception(\"Error in request\")\n",
    "    except Exception as e:\n",
    "        print(response.json())\n",
    "        raise e\n",
    "\n",
    "# # Example usage\n",
    "# directions = get_time_proximity([[144.96332, -37.8140], [144.96332, -37.8120]])\n",
    "# print(directions)"
   ]
  },
  {
   "cell_type": "code",
   "execution_count": 20,
   "metadata": {},
   "outputs": [],
   "source": [
    "def get_time_proximity_from_property(row, cities):\n",
    "    city = cities.iloc[int(row['city_index'])]\n",
    "    coordinates = [[row['lng'], row['lat']], [city['lng'], city['lat']]]\n",
    "    time = get_time_proximity(coordinates)\n",
    "    # print(time)\n",
    "    return time"
   ]
  },
  {
   "cell_type": "code",
   "execution_count": null,
   "metadata": {},
   "outputs": [],
   "source": [
    "coords.shape"
   ]
  },
  {
   "cell_type": "code",
   "execution_count": null,
   "metadata": {},
   "outputs": [],
   "source": [
    "# dist time matching\n",
    "coords[\"time_city\"] = coords.progress_apply(lambda row: get_time_proximity_from_property(row, city), axis=1)\n",
    "# property_df.to_csv(f\"../data/raw/property/rent_{i}_ptv.csv\", index=False)"
   ]
  },
  {
   "cell_type": "code",
   "execution_count": null,
   "metadata": {},
   "outputs": [],
   "source": [
    "err_count"
   ]
  },
  {
   "cell_type": "code",
   "execution_count": 25,
   "metadata": {},
   "outputs": [],
   "source": [
    "coords.to_csv(city_output, index=False)"
   ]
  },
  {
   "cell_type": "markdown",
   "metadata": {},
   "source": [
    "# join to orginal dataset"
   ]
  },
  {
   "cell_type": "markdown",
   "metadata": {},
   "source": [
    "## read all"
   ]
  },
  {
   "cell_type": "code",
   "execution_count": 28,
   "metadata": {},
   "outputs": [],
   "source": [
    "import sys, os\n",
    "import pandas as pd\n",
    "import geopandas as gpd\n",
    "sys.path.append(\"../\")\n",
    "from scripts.proximity import proximity_hard_join, proximity_sjoin"
   ]
  },
  {
   "cell_type": "code",
   "execution_count": 33,
   "metadata": {},
   "outputs": [],
   "source": [
    "cleaned_df = pd.read_csv(property_data_path)\n",
    "city_df = pd.read_csv(city_output)"
   ]
  },
  {
   "cell_type": "code",
   "execution_count": null,
   "metadata": {},
   "outputs": [],
   "source": [
    "cleaned_df"
   ]
  },
  {
   "cell_type": "code",
   "execution_count": null,
   "metadata": {},
   "outputs": [],
   "source": [
    "proximity_sjoin(cleaned_df, city_df).shape"
   ]
  },
  {
   "cell_type": "code",
   "execution_count": null,
   "metadata": {},
   "outputs": [],
   "source": [
    "city_df['time_city'].value_counts()"
   ]
  },
  {
   "cell_type": "code",
   "execution_count": null,
   "metadata": {},
   "outputs": [],
   "source": [
    "import pandas as pd\n",
    "import geopandas as gpd\n",
    "from shapely.geometry import Point\n",
    "city_coords = pd.read_csv(f\"../data/raw/time_city.csv\")\n",
    "gdf_city_coords = gpd.GeoDataFrame(city_coords, geometry=gpd.points_from_xy(city_coords.lng, city_coords.lat))\n",
    "gpd_cleaned_df = gpd.GeoDataFrame(cleaned_df, geometry=gpd.points_from_xy(cleaned_df.lng, cleaned_df.lat))\n",
    "\n",
    "# Ensure both GeoDataFrames have the same CRS (Coordinate Reference System)\n",
    "gdf_city_coords = gdf_city_coords.set_crs(\"EPSG:4326\")\n",
    "gpd_cleaned_df = gpd_cleaned_df.set_crs(\"EPSG:4326\")\n",
    "\n",
    "# Perform the nearest spatial join\n",
    "joined_gdf = gpd.sjoin_nearest(gpd_cleaned_df,gdf_city_coords[['geometry','time_city']], how=\"left\",rsuffix='city_coords')\n",
    "joined_gdf.drop(columns=['index_city_coords'],inplace=True)\n"
   ]
  },
  {
   "cell_type": "code",
   "execution_count": null,
   "metadata": {},
   "outputs": [],
   "source": [
    "gpd_cleaned_df\n"
   ]
  },
  {
   "cell_type": "code",
   "execution_count": null,
   "metadata": {},
   "outputs": [],
   "source": [
    "cleaned_df.dtypes"
   ]
  }
 ],
 "metadata": {
  "kernelspec": {
   "display_name": ".venv",
   "language": "python",
   "name": "python3"
  },
  "language_info": {
   "codemirror_mode": {
    "name": "ipython",
    "version": 3
   },
   "file_extension": ".py",
   "mimetype": "text/x-python",
   "name": "python",
   "nbconvert_exporter": "python",
   "pygments_lexer": "ipython3",
   "version": "3.10.12"
  }
 },
 "nbformat": 4,
 "nbformat_minor": 2
}
