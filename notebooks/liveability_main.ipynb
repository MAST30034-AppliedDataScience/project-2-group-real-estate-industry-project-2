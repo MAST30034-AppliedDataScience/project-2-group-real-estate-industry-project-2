{
 "cells": [
  {
   "cell_type": "markdown",
   "metadata": {},
   "source": [
    "Liveability score is defined to be the weighted average of below features\n",
    "\n",
    "1. Housing affordability\n",
    "2. Access to public transport\n",
    "3. Access to city center\n"
   ]
  },
  {
   "cell_type": "markdown",
   "metadata": {},
   "source": [
    "# 0.Setup"
   ]
  },
  {
   "cell_type": "code",
   "execution_count": 38,
   "metadata": {},
   "outputs": [],
   "source": [
    "import sys\n",
    "sys.path.append('../')\n",
    "from scripts.proximity import proximity_sjoin"
   ]
  },
  {
   "cell_type": "code",
   "execution_count": 39,
   "metadata": {},
   "outputs": [],
   "source": [
    "import pandas as pd\n",
    "import numpy as np\n",
    "import geopandas as gpd\n",
    "# rental data used as the main data for analysis\n",
    "rental_data = pd.read_csv('../data/curated/rental-17-24.csv')\n",
    "suburb_shape = gpd.read_file('../data/curated/shapefiles/postcode/POSTCODE_POLYGON.shp')[['POSTCODE', 'geometry']]\n",
    "ptv_time = pd.read_csv('../data/raw/time_ptv.csv')\n",
    "crime_data = pd.read_excel('../data/landing/crime2024.xlsx', sheet_name='Table 03', header=0)"
   ]
  },
  {
   "cell_type": "code",
   "execution_count": 40,
   "metadata": {},
   "outputs": [],
   "source": [
    "rental_gdf = gpd.GeoDataFrame(rental_data, geometry=gpd.points_from_xy(rental_data.lng, rental_data.lat), crs='EPSG:7844')\n",
    "rental_gdf = gpd.sjoin(rental_gdf, suburb_shape, how='left', predicate='within')\\\n",
    "    .drop(columns=['index_right'])\n",
    "assert rental_gdf.shape[0] == rental_data.shape[0]  # check if all rows are joined\n",
    "assert rental_gdf[rental_gdf['POSTCODE'].isnull()].shape[0] == 0 # check if there are any rows that are not joined\n",
    "rental_gdf.rename(columns={'POSTCODE': 'postcode'}, inplace=True)"
   ]
  },
  {
   "cell_type": "code",
   "execution_count": 41,
   "metadata": {},
   "outputs": [],
   "source": [
    "rental_gdf = rental_gdf[rental_gdf['year']== 2023]"
   ]
  },
  {
   "cell_type": "markdown",
   "metadata": {},
   "source": [
    "## postcodes with at least 100 instances\n"
   ]
  },
  {
   "cell_type": "code",
   "execution_count": 42,
   "metadata": {},
   "outputs": [],
   "source": [
    "threshold = 0\n",
    "count_ins = rental_gdf.groupby('postcode').size().reset_index(name='count')\n",
    "valid_postcode_list = count_ins[count_ins['count'] > threshold]['postcode'].tolist()"
   ]
  },
  {
   "cell_type": "code",
   "execution_count": 43,
   "metadata": {},
   "outputs": [],
   "source": [
    "def postcode_count_filter(df, valid_postcode_list):\n",
    "    return df[df['postcode'].isin(valid_postcode_list)]"
   ]
  },
  {
   "cell_type": "markdown",
   "metadata": {},
   "source": [
    "# 1.Housing affordability\n",
    "\n",
    "Housing affordability can be expressed as the ratio of housing costs to gross household income (ABS 2022a)."
   ]
  },
  {
   "cell_type": "code",
   "execution_count": 44,
   "metadata": {},
   "outputs": [],
   "source": [
    "affordability = pd.DataFrame(rental_gdf) # making a copy\n",
    "affordability = affordability[affordability['year']==2023]\n",
    "# get rent as a percentage of income (just to make it meaningful)\n",
    "affordability['price/income'] = affordability['rented_price']/7*365 / affordability['median_income']\n",
    "affordability = affordability.groupby('postcode').agg({'price/income': 'mean'}).reset_index()"
   ]
  },
  {
   "cell_type": "code",
   "execution_count": 45,
   "metadata": {},
   "outputs": [],
   "source": [
    "affordability.sort_values('price/income', ascending=True, inplace=True)"
   ]
  },
  {
   "cell_type": "code",
   "execution_count": null,
   "metadata": {},
   "outputs": [],
   "source": [
    "affordability_rank = postcode_count_filter(affordability,valid_postcode_list).reset_index(drop=True)\n",
    "affordability_rank['rank'] = affordability_rank.index + 1\n",
    "affordability_rank = affordability_rank[['postcode', 'rank']]\n",
    "affordability_rank"
   ]
  },
  {
   "cell_type": "code",
   "execution_count": 47,
   "metadata": {},
   "outputs": [],
   "source": [
    "affordability.to_csv('../data/curated/affordability.csv', index=False)"
   ]
  },
  {
   "cell_type": "markdown",
   "metadata": {},
   "source": [
    "# 2.Access to Public Transport\n",
    "\n",
    "defined as the average time to public transport for properties in that suburb"
   ]
  },
  {
   "cell_type": "code",
   "execution_count": null,
   "metadata": {},
   "outputs": [],
   "source": [
    "public_transport = proximity_sjoin(pd.DataFrame(rental_gdf).drop(columns=['geometry']), ptv_time,'ptv_time')\n",
    "assert public_transport[public_transport['ptv_time'].isna()].shape[0] == 0\n",
    "public_transport = public_transport[public_transport['ptv_time'] != -1] # filter out error entries"
   ]
  },
  {
   "cell_type": "code",
   "execution_count": null,
   "metadata": {},
   "outputs": [],
   "source": [
    "# get average time to ptv stops\n",
    "public_transport_res = public_transport.groupby('postcode').agg({'ptv_time': 'mean'}).reset_index()\n",
    "# get count\n",
    "count_by_suburb = public_transport.groupby('postcode').size().reset_index(name='count')\n",
    "public_transport_res = pd.merge(public_transport_res, count_by_suburb, on='postcode')\n",
    "# sort\n",
    "public_transport_res.sort_values('ptv_time', ascending=True, inplace=True)\n",
    "# join suburb names\n",
    "public_transport_res"
   ]
  },
  {
   "cell_type": "code",
   "execution_count": null,
   "metadata": {},
   "outputs": [],
   "source": [
    "ptv_rank = postcode_count_filter(public_transport_res, valid_postcode_list).reset_index(drop=True)\n",
    "# get postcode and index\n",
    "ptv_rank['rank'] = ptv_rank.index +1\n",
    "ptv_rank = ptv_rank[['postcode', 'rank']]\n",
    "ptv_rank"
   ]
  },
  {
   "cell_type": "markdown",
   "metadata": {},
   "source": [
    "# 3.Crime\n",
    "\n",
    "https://www.crimestatistics.vic.gov.au/crime-statistics/latest-crime-data-by-area"
   ]
  },
  {
   "cell_type": "code",
   "execution_count": 51,
   "metadata": {},
   "outputs": [],
   "source": [
    "crime_rank = crime_data[['Postcode', 'Incidents Recorded']].groupby('Postcode').size().reset_index(name='count').sort_values('count').reset_index(drop=True).rename(columns={'Postcode': 'postcode'})\n",
    "crime_rank['postcode'] = crime_rank['postcode'].astype(str)\n",
    "crime_rank = postcode_count_filter(crime_rank, valid_postcode_list).reset_index(drop=True)"
   ]
  },
  {
   "cell_type": "code",
   "execution_count": 52,
   "metadata": {},
   "outputs": [],
   "source": [
    "# population\n",
    "population = rental_gdf.groupby('postcode').agg({'population': 'mean'}).reset_index()\n",
    "population = postcode_count_filter(population, valid_postcode_list).reset_index(drop=True)\n",
    "crime_rank = pd.merge(crime_rank, population, on='postcode', how='left')"
   ]
  },
  {
   "cell_type": "code",
   "execution_count": null,
   "metadata": {},
   "outputs": [],
   "source": [
    "crime_rank['crime_rate'] = crime_rank['count'] / crime_rank['population']\n",
    "crime_rank.sort_values('crime_rate', ascending=True, inplace=True)\n",
    "crime_rank.reset_index(drop=True, inplace=True)\n",
    "crime_rank['rank'] = crime_rank.index + 1\n",
    "crime_rank = crime_rank[['postcode', 'rank']]\n",
    "crime_rank"
   ]
  },
  {
   "cell_type": "markdown",
   "metadata": {},
   "source": [
    "# 4.Proximity to CBDs"
   ]
  },
  {
   "cell_type": "code",
   "execution_count": 54,
   "metadata": {},
   "outputs": [],
   "source": [
    "city_rank = rental_gdf[rental_gdf['time_city'] != -1] # filter out error entries\n",
    "city_rank = city_rank.groupby('postcode').agg({'time_city': 'mean'}).reset_index()\n"
   ]
  },
  {
   "cell_type": "code",
   "execution_count": null,
   "metadata": {},
   "outputs": [],
   "source": [
    "city_rank.sort_values('time_city', ascending=True, inplace=True)\n",
    "city_rank = postcode_count_filter(city_rank, valid_postcode_list).reset_index(drop=True)\n",
    "city_rank['rank'] = city_rank.index + 1\n",
    "city_rank = city_rank[['postcode', 'rank']]\n",
    "city_rank"
   ]
  },
  {
   "cell_type": "markdown",
   "metadata": {},
   "source": [
    "# 5.Proximity Parks"
   ]
  },
  {
   "cell_type": "code",
   "execution_count": null,
   "metadata": {},
   "outputs": [],
   "source": [
    "park = pd.read_csv('../data/raw/time_park.csv')\n",
    "# park = gpd.GeoDataFrame(park, geometry=gpd.points_from_xy(park.lng, park.lat), crs='EPSG:7844')\n",
    "park_rental = proximity_sjoin(pd.DataFrame(rental_gdf).drop(columns=['geometry']), park, 'time_park')\n",
    "park_rental = park_rental[park_rental['time_park'] != -1] # filter out error entries\n",
    "park_rank = park_rental.groupby('postcode').agg({'time_park': 'mean'}).reset_index()"
   ]
  },
  {
   "cell_type": "code",
   "execution_count": 57,
   "metadata": {},
   "outputs": [],
   "source": [
    "park_rank = park_rank.sort_values('time_park', ascending=True).reset_index(drop=True)\n",
    "park_rank = postcode_count_filter(park_rank, valid_postcode_list).reset_index(drop=True)"
   ]
  },
  {
   "cell_type": "code",
   "execution_count": null,
   "metadata": {},
   "outputs": [],
   "source": [
    "park_rank['rank'] = park_rank.index + 1\n",
    "park_rank = park_rank[['postcode', 'rank']]\n",
    "park_rank"
   ]
  },
  {
   "cell_type": "markdown",
   "metadata": {},
   "source": [
    "# inf.Combine"
   ]
  },
  {
   "cell_type": "code",
   "execution_count": 59,
   "metadata": {},
   "outputs": [],
   "source": [
    "\n",
    "liveability_weight = 4\n",
    "affordability_weight = 1"
   ]
  },
  {
   "cell_type": "markdown",
   "metadata": {},
   "source": [
    "## liveability"
   ]
  },
  {
   "cell_type": "code",
   "execution_count": 60,
   "metadata": {},
   "outputs": [],
   "source": [
    "liveability_list = [ptv_rank, crime_rank, city_rank, park_rank]\n",
    "suffixes = ['_ptv', '_crime', '_city', '_park']\n",
    "weight = [1,1,1,1]\n",
    "for i, df in enumerate(liveability_list):\n",
    "    liveability_list[i] = df.rename(columns={'rank': 'rank' + suffixes[i]})"
   ]
  },
  {
   "cell_type": "code",
   "execution_count": 61,
   "metadata": {},
   "outputs": [],
   "source": [
    "joined_rank = liveability_list[0].rename(columns={'rank': 'rank' + suffixes[0]})\n",
    "for i in range(1, len(liveability_list)):\n",
    "    joined_rank = pd.merge(joined_rank, liveability_list[i], on='postcode')"
   ]
  },
  {
   "cell_type": "code",
   "execution_count": 62,
   "metadata": {},
   "outputs": [],
   "source": [
    "joined_rank['liveability_rank'] = joined_rank.apply(lambda x: sum([x['rank' + suffixes[i]] * weight[i] / sum(weight) for i in range(len(suffixes))]), axis=1)"
   ]
  },
  {
   "cell_type": "code",
   "execution_count": null,
   "metadata": {},
   "outputs": [],
   "source": [
    "joined_rank.sort_values('liveability_rank', ascending=True, inplace=True)\n",
    "joined_rank"
   ]
  },
  {
   "cell_type": "markdown",
   "metadata": {},
   "source": [
    "## affordability joined"
   ]
  },
  {
   "cell_type": "code",
   "execution_count": null,
   "metadata": {},
   "outputs": [],
   "source": [
    "joined_rank = pd.merge(joined_rank, affordability_rank.rename(columns={'rank': 'rank_affordability'}), on='postcode')\n",
    "joined_rank"
   ]
  },
  {
   "cell_type": "code",
   "execution_count": 65,
   "metadata": {},
   "outputs": [],
   "source": [
    "joined_rank['final_rank'] = joined_rank.apply(lambda x: (x['liveability_rank']*liveability_weight + x['rank_affordability']*affordability_weight) / (liveability_weight+affordability_weight), axis=1)\n",
    "joined_rank.sort_values('final_rank', ascending=True, inplace=True)"
   ]
  },
  {
   "cell_type": "code",
   "execution_count": null,
   "metadata": {},
   "outputs": [],
   "source": [
    "joined_rank.reset_index(drop=True).head(10)"
   ]
  },
  {
   "cell_type": "markdown",
   "metadata": {},
   "source": [
    "### save"
   ]
  },
  {
   "cell_type": "code",
   "execution_count": 67,
   "metadata": {},
   "outputs": [],
   "source": [
    "joined_rank.to_csv('../data/curated/liveability_final.csv', index=False)"
   ]
  },
  {
   "cell_type": "code",
   "execution_count": null,
   "metadata": {},
   "outputs": [],
   "source": [
    "joined_rank.head(10)"
   ]
  },
  {
   "cell_type": "code",
   "execution_count": 69,
   "metadata": {},
   "outputs": [],
   "source": [
    "joined_rank.sort_values('final_rank', ascending=True, inplace=True)\n",
    "joined_rank.reset_index(drop=True, inplace=True)\n",
    "joined_rank['rank'] = joined_rank.index + 1"
   ]
  },
  {
   "cell_type": "code",
   "execution_count": 70,
   "metadata": {},
   "outputs": [],
   "source": [
    "joined_rank[['postcode', 'rank']].to_csv('../data/curated/liveability_rank.csv', index=False)"
   ]
  },
  {
   "cell_type": "code",
   "execution_count": null,
   "metadata": {},
   "outputs": [],
   "source": []
  }
 ],
 "metadata": {
  "kernelspec": {
   "display_name": ".venv",
   "language": "python",
   "name": "python3"
  },
  "language_info": {
   "codemirror_mode": {
    "name": "ipython",
    "version": 3
   },
   "file_extension": ".py",
   "mimetype": "text/x-python",
   "name": "python",
   "nbconvert_exporter": "python",
   "pygments_lexer": "ipython3",
   "version": "3.10.12"
  }
 },
 "nbformat": 4,
 "nbformat_minor": 2
}
