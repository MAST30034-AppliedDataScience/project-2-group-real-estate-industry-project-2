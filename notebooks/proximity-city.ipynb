{
 "cells": [
  {
   "cell_type": "markdown",
   "metadata": {},
   "source": [
    "Note:\n",
    "\n"
   ]
  },
  {
   "cell_type": "code",
   "execution_count": 38,
   "metadata": {},
   "outputs": [],
   "source": [
    "import pandas as pd\n",
    "import geopandas as gpd\n",
    "from shapely import wkt\n",
    "from shapely.geometry import Point\n",
    "from scipy.spatial import cKDTree\n",
    "import numpy as np\n",
    "import requests\n",
    "import json\n",
    "from tqdm.auto import tqdm\n",
    "import matplotlib.pyplot as plt\n",
    "tqdm.pandas()  # \"tqdm>=4.9.0\"\n",
    "ptv_path = \"../data/raw/ptv_zones/ptv_zones.csv\""
   ]
  },
  {
   "cell_type": "markdown",
   "metadata": {},
   "source": [
    "# property data"
   ]
  },
  {
   "cell_type": "code",
   "execution_count": 4,
   "metadata": {},
   "outputs": [],
   "source": [
    "path = \"../data/raw/property/rental_data_cleaned.csv\"\n",
    "property_df = pd.read_csv(path)"
   ]
  },
  {
   "cell_type": "code",
   "execution_count": 13,
   "metadata": {},
   "outputs": [],
   "source": [
    "coords = property_df[['lat', 'lng']].drop_duplicates()"
   ]
  },
  {
   "cell_type": "markdown",
   "metadata": {},
   "source": [
    "# City\n",
    "according to wikipedia, the top 4 city in victoria is\n",
    "1.\tMelbourne\t\n",
    "2.\tGeelong\t\n",
    "3.\tBallarat\n",
    "4.\tBendigo"
   ]
  },
  {
   "cell_type": "code",
   "execution_count": 20,
   "metadata": {},
   "outputs": [],
   "source": [
    "city = pd.DataFrame({'locations': [\"-37.814819636878, 144.96639135042003\",\n",
    "                                   \"-38.14928665137738, 144.35990084446854\",\n",
    "                                   \"-37.56151637411765, 143.85484215682467\",\n",
    "                                   \"-36.75960898491938, 144.2786689721445\"],\n",
    "                     'city': [\"Melbourne\", \"Geelong\", \"Ballarat\", \"Bendigo\"]})\n",
    "city['lat'] = city['locations'].apply(lambda x: float(x.split(\",\")[0]))\n",
    "city['lng'] = city['locations'].apply(lambda x: float(x.split(\",\")[1]))\n",
    "city['Point'] = city.apply(lambda x: Point(x['lng'], x['lat']), axis=1)"
   ]
  },
  {
   "cell_type": "code",
   "execution_count": 42,
   "metadata": {},
   "outputs": [],
   "source": [
    "num_to_find = 3\n",
    "tree = cKDTree(city[['lng', 'lat']].values)\n",
    "property_coords = coords[['lng', 'lat']].values\n",
    "distances, indices = tree.query(property_coords, k=1)\n",
    "coords[\"city_index\"] = list(indices)"
   ]
  },
  {
   "cell_type": "code",
   "execution_count": 44,
   "metadata": {},
   "outputs": [
    {
     "data": {
      "text/plain": [
       "city_index\n",
       "0    369522\n",
       "1     30938\n",
       "3     26071\n",
       "2     20615\n",
       "Name: count, dtype: int64"
      ]
     },
     "execution_count": 44,
     "metadata": {},
     "output_type": "execute_result"
    }
   ],
   "source": [
    "coords[\"city_index\"].value_counts()"
   ]
  },
  {
   "cell_type": "code",
   "execution_count": 59,
   "metadata": {},
   "outputs": [],
   "source": [
    "def get_time_proximity(coordinates):\n",
    "    url = \"http://localhost:8080/ors/v2/directions/driving-car\"\n",
    "    body = {\"coordinates\": coordinates}\n",
    "    # print(body)\n",
    "    response = requests.post(url, json=body)\n",
    "    try:\n",
    "        if response.status_code == 200:\n",
    "            summary = response.json()[\"routes\"][0][\"summary\"]\n",
    "            if \"duration\" in summary:\n",
    "                return summary[\"duration\"]\n",
    "            return 0\n",
    "        else:\n",
    "            if(response.json()[\"error\"][\"code\"] == 2004):\n",
    "                # distance is too long (> 100000.0 m)\n",
    "                return -1\n",
    "            if(response.json()[\"error\"][\"code\"] == 2010):\n",
    "                # \"error\":{\"code\":2010,\"message\":\"Could not find routable point within a radius of 400.0 meters of specified coordinate\n",
    "                return -1\n",
    "            print(body)\n",
    "            print(response.text)\n",
    "            raise Exception(\"Error in request\")\n",
    "    except Exception as e:\n",
    "        print(response.json())\n",
    "        raise e\n",
    "\n",
    "# # Example usage\n",
    "# directions = get_time_proximity([[144.96332, -37.8140], [144.96332, -37.8120]])\n",
    "# print(directions)"
   ]
  },
  {
   "cell_type": "code",
   "execution_count": 53,
   "metadata": {},
   "outputs": [
    {
     "data": {
      "text/plain": [
       "locations           -37.814819636878, 144.96639135042003\n",
       "city                                           Melbourne\n",
       "lat                                            -37.81482\n",
       "lng                                           144.966391\n",
       "Point        POINT (144.96639135042003 -37.814819636878)\n",
       "Name: 0, dtype: object"
      ]
     },
     "execution_count": 53,
     "metadata": {},
     "output_type": "execute_result"
    }
   ],
   "source": [
    "city.iloc[0]"
   ]
  },
  {
   "cell_type": "code",
   "execution_count": 62,
   "metadata": {},
   "outputs": [],
   "source": [
    "def get_time_proximity_from_property(row, cities):\n",
    "    city = cities.iloc[int(row['city_index'])]\n",
    "    coordinates = [[row['lng'], row['lat']], [city['lng'], city['lat']]]\n",
    "    time = get_time_proximity(coordinates)\n",
    "    # print(time)\n",
    "    return time"
   ]
  },
  {
   "cell_type": "code",
   "execution_count": 58,
   "metadata": {},
   "outputs": [
    {
     "data": {
      "text/html": [
       "<div>\n",
       "<style scoped>\n",
       "    .dataframe tbody tr th:only-of-type {\n",
       "        vertical-align: middle;\n",
       "    }\n",
       "\n",
       "    .dataframe tbody tr th {\n",
       "        vertical-align: top;\n",
       "    }\n",
       "\n",
       "    .dataframe thead th {\n",
       "        text-align: right;\n",
       "    }\n",
       "</style>\n",
       "<table border=\"1\" class=\"dataframe\">\n",
       "  <thead>\n",
       "    <tr style=\"text-align: right;\">\n",
       "      <th></th>\n",
       "      <th>lat</th>\n",
       "      <th>lng</th>\n",
       "      <th>city_index</th>\n",
       "    </tr>\n",
       "  </thead>\n",
       "  <tbody>\n",
       "    <tr>\n",
       "      <th>0</th>\n",
       "      <td>-37.813730</td>\n",
       "      <td>144.955580</td>\n",
       "      <td>0</td>\n",
       "    </tr>\n",
       "    <tr>\n",
       "      <th>6</th>\n",
       "      <td>-37.810280</td>\n",
       "      <td>144.956670</td>\n",
       "      <td>0</td>\n",
       "    </tr>\n",
       "    <tr>\n",
       "      <th>12</th>\n",
       "      <td>-37.813590</td>\n",
       "      <td>144.955720</td>\n",
       "      <td>0</td>\n",
       "    </tr>\n",
       "    <tr>\n",
       "      <th>16</th>\n",
       "      <td>-37.813700</td>\n",
       "      <td>144.953930</td>\n",
       "      <td>0</td>\n",
       "    </tr>\n",
       "    <tr>\n",
       "      <th>18</th>\n",
       "      <td>-37.808826</td>\n",
       "      <td>144.959549</td>\n",
       "      <td>0</td>\n",
       "    </tr>\n",
       "    <tr>\n",
       "      <th>...</th>\n",
       "      <td>...</td>\n",
       "      <td>...</td>\n",
       "      <td>...</td>\n",
       "    </tr>\n",
       "    <tr>\n",
       "      <th>1531532</th>\n",
       "      <td>-37.896543</td>\n",
       "      <td>144.723878</td>\n",
       "      <td>0</td>\n",
       "    </tr>\n",
       "    <tr>\n",
       "      <th>1531537</th>\n",
       "      <td>-37.913624</td>\n",
       "      <td>144.760232</td>\n",
       "      <td>0</td>\n",
       "    </tr>\n",
       "    <tr>\n",
       "      <th>1531541</th>\n",
       "      <td>-37.915965</td>\n",
       "      <td>144.780830</td>\n",
       "      <td>0</td>\n",
       "    </tr>\n",
       "    <tr>\n",
       "      <th>1531543</th>\n",
       "      <td>-37.896490</td>\n",
       "      <td>144.741029</td>\n",
       "      <td>0</td>\n",
       "    </tr>\n",
       "    <tr>\n",
       "      <th>1531551</th>\n",
       "      <td>-37.883631</td>\n",
       "      <td>144.732710</td>\n",
       "      <td>0</td>\n",
       "    </tr>\n",
       "  </tbody>\n",
       "</table>\n",
       "<p>447146 rows × 3 columns</p>\n",
       "</div>"
      ],
      "text/plain": [
       "               lat         lng  city_index\n",
       "0       -37.813730  144.955580           0\n",
       "6       -37.810280  144.956670           0\n",
       "12      -37.813590  144.955720           0\n",
       "16      -37.813700  144.953930           0\n",
       "18      -37.808826  144.959549           0\n",
       "...            ...         ...         ...\n",
       "1531532 -37.896543  144.723878           0\n",
       "1531537 -37.913624  144.760232           0\n",
       "1531541 -37.915965  144.780830           0\n",
       "1531543 -37.896490  144.741029           0\n",
       "1531551 -37.883631  144.732710           0\n",
       "\n",
       "[447146 rows x 3 columns]"
      ]
     },
     "execution_count": 58,
     "metadata": {},
     "output_type": "execute_result"
    }
   ],
   "source": [
    "coords"
   ]
  },
  {
   "cell_type": "code",
   "execution_count": 63,
   "metadata": {},
   "outputs": [
    {
     "name": "stderr",
     "output_type": "stream",
     "text": [
      "100%|██████████| 447146/447146 [19:06<00:00, 390.17it/s]\n"
     ]
    }
   ],
   "source": [
    "# dist time matching\n",
    "coords[\"time_city\"] = coords.progress_apply(lambda row: get_time_proximity_from_property(row, city), axis=1)\n",
    "# property_df.to_csv(f\"../data/raw/property/rent_{i}_ptv.csv\", index=False)"
   ]
  },
  {
   "cell_type": "code",
   "execution_count": 66,
   "metadata": {},
   "outputs": [],
   "source": [
    "coords.to_csv(f\"../data/raw/time_city.csv\", index=False)"
   ]
  },
  {
   "cell_type": "markdown",
   "metadata": {},
   "source": [
    "# join to orginal dataset"
   ]
  },
  {
   "cell_type": "markdown",
   "metadata": {},
   "source": [
    "## read all"
   ]
  },
  {
   "cell_type": "code",
   "execution_count": 68,
   "metadata": {},
   "outputs": [],
   "source": [
    "cleaned_df = pd.read_csv(\"../data/raw/property/rental_data_cleaned.csv\")"
   ]
  },
  {
   "cell_type": "code",
   "execution_count": 17,
   "metadata": {},
   "outputs": [],
   "source": [
    "all_ptv['ptv_time'] = all_ptv['time_to_ptv_1']\n",
    "all_ptv = all_ptv[['lat','lng','address','ptv_time']]\n",
    "all"
   ]
  },
  {
   "cell_type": "code",
   "execution_count": 37,
   "metadata": {},
   "outputs": [],
   "source": [
    "all_ptv = all_ptv.drop_duplicates()"
   ]
  },
  {
   "cell_type": "code",
   "execution_count": 73,
   "metadata": {},
   "outputs": [],
   "source": [
    "city_coords = pd.read_csv(f\"../data/raw/time_city.csv\", index=False)\n",
    "merged_df = cleaned_df.merge(city_coords[['lat', 'lng','time_city']], on=['lat','lng'], how='left')"
   ]
  },
  {
   "cell_type": "code",
   "execution_count": 85,
   "metadata": {},
   "outputs": [
    {
     "data": {
      "text/html": [
       "<div>\n",
       "<style scoped>\n",
       "    .dataframe tbody tr th:only-of-type {\n",
       "        vertical-align: middle;\n",
       "    }\n",
       "\n",
       "    .dataframe tbody tr th {\n",
       "        vertical-align: top;\n",
       "    }\n",
       "\n",
       "    .dataframe thead th {\n",
       "        text-align: right;\n",
       "    }\n",
       "</style>\n",
       "<table border=\"1\" class=\"dataframe\">\n",
       "  <thead>\n",
       "    <tr style=\"text-align: right;\">\n",
       "      <th></th>\n",
       "      <th>geometry</th>\n",
       "      <th>time_city</th>\n",
       "    </tr>\n",
       "  </thead>\n",
       "  <tbody>\n",
       "    <tr>\n",
       "      <th>0</th>\n",
       "      <td>POINT (144.95558 -37.81373)</td>\n",
       "      <td>263.3</td>\n",
       "    </tr>\n",
       "    <tr>\n",
       "      <th>1</th>\n",
       "      <td>POINT (144.95667 -37.81028)</td>\n",
       "      <td>210.9</td>\n",
       "    </tr>\n",
       "    <tr>\n",
       "      <th>2</th>\n",
       "      <td>POINT (144.95572 -37.81359)</td>\n",
       "      <td>232.5</td>\n",
       "    </tr>\n",
       "    <tr>\n",
       "      <th>3</th>\n",
       "      <td>POINT (144.95393 -37.8137)</td>\n",
       "      <td>228.1</td>\n",
       "    </tr>\n",
       "    <tr>\n",
       "      <th>4</th>\n",
       "      <td>POINT (144.95955 -37.80883)</td>\n",
       "      <td>225.9</td>\n",
       "    </tr>\n",
       "    <tr>\n",
       "      <th>...</th>\n",
       "      <td>...</td>\n",
       "      <td>...</td>\n",
       "    </tr>\n",
       "    <tr>\n",
       "      <th>447141</th>\n",
       "      <td>POINT (144.72388 -37.89654)</td>\n",
       "      <td>1962.8</td>\n",
       "    </tr>\n",
       "    <tr>\n",
       "      <th>447142</th>\n",
       "      <td>POINT (144.76023 -37.91362)</td>\n",
       "      <td>2271.4</td>\n",
       "    </tr>\n",
       "    <tr>\n",
       "      <th>447143</th>\n",
       "      <td>POINT (144.78083 -37.91597)</td>\n",
       "      <td>2484.2</td>\n",
       "    </tr>\n",
       "    <tr>\n",
       "      <th>447144</th>\n",
       "      <td>POINT (144.74103 -37.89649)</td>\n",
       "      <td>1963.3</td>\n",
       "    </tr>\n",
       "    <tr>\n",
       "      <th>447145</th>\n",
       "      <td>POINT (144.73271 -37.88363)</td>\n",
       "      <td>1775.8</td>\n",
       "    </tr>\n",
       "  </tbody>\n",
       "</table>\n",
       "<p>447146 rows × 2 columns</p>\n",
       "</div>"
      ],
      "text/plain": [
       "                           geometry  time_city\n",
       "0       POINT (144.95558 -37.81373)      263.3\n",
       "1       POINT (144.95667 -37.81028)      210.9\n",
       "2       POINT (144.95572 -37.81359)      232.5\n",
       "3        POINT (144.95393 -37.8137)      228.1\n",
       "4       POINT (144.95955 -37.80883)      225.9\n",
       "...                             ...        ...\n",
       "447141  POINT (144.72388 -37.89654)     1962.8\n",
       "447142  POINT (144.76023 -37.91362)     2271.4\n",
       "447143  POINT (144.78083 -37.91597)     2484.2\n",
       "447144  POINT (144.74103 -37.89649)     1963.3\n",
       "447145  POINT (144.73271 -37.88363)     1775.8\n",
       "\n",
       "[447146 rows x 2 columns]"
      ]
     },
     "execution_count": 85,
     "metadata": {},
     "output_type": "execute_result"
    }
   ],
   "source": [
    "gdf_city_coords[['geometry','time_city']]"
   ]
  },
  {
   "cell_type": "code",
   "execution_count": 82,
   "metadata": {},
   "outputs": [
    {
     "name": "stderr",
     "output_type": "stream",
     "text": [
      "/home/even/repo/project-2-group-real-estate-industry-project-2/.venv/lib/python3.10/site-packages/geopandas/array.py:403: UserWarning: Geometry is in a geographic CRS. Results from 'sjoin_nearest' are likely incorrect. Use 'GeoSeries.to_crs()' to re-project geometries to a projected CRS before this operation.\n",
      "\n",
      "  warnings.warn(\n"
     ]
    },
    {
     "ename": "ValueError",
     "evalue": "'index_right' cannot be a column name in the frames being joined",
     "output_type": "error",
     "traceback": [
      "\u001b[0;31m---------------------------------------------------------------------------\u001b[0m",
      "\u001b[0;31mValueError\u001b[0m                                Traceback (most recent call last)",
      "Cell \u001b[0;32mIn[82], line 13\u001b[0m\n\u001b[1;32m     10\u001b[0m gpd_cleaned_df \u001b[38;5;241m=\u001b[39m gpd_cleaned_df\u001b[38;5;241m.\u001b[39mset_crs(\u001b[38;5;124m\"\u001b[39m\u001b[38;5;124mEPSG:4326\u001b[39m\u001b[38;5;124m\"\u001b[39m)\n\u001b[1;32m     12\u001b[0m \u001b[38;5;66;03m# Perform the nearest spatial join\u001b[39;00m\n\u001b[0;32m---> 13\u001b[0m joined_gdf \u001b[38;5;241m=\u001b[39m \u001b[43mgpd\u001b[49m\u001b[38;5;241;43m.\u001b[39;49m\u001b[43msjoin_nearest\u001b[49m\u001b[43m(\u001b[49m\u001b[43mgdf_city_coords\u001b[49m\u001b[43m,\u001b[49m\u001b[43m \u001b[49m\u001b[43mgpd_cleaned_df\u001b[49m\u001b[43m,\u001b[49m\u001b[43m \u001b[49m\u001b[43mhow\u001b[49m\u001b[38;5;241;43m=\u001b[39;49m\u001b[38;5;124;43m\"\u001b[39;49m\u001b[38;5;124;43mleft\u001b[39;49m\u001b[38;5;124;43m\"\u001b[39;49m\u001b[43m)\u001b[49m\n",
      "File \u001b[0;32m~/repo/project-2-group-real-estate-industry-project-2/.venv/lib/python3.10/site-packages/geopandas/tools/sjoin.py:720\u001b[0m, in \u001b[0;36msjoin_nearest\u001b[0;34m(left_df, right_df, how, max_distance, lsuffix, rsuffix, distance_col, exclusive)\u001b[0m\n\u001b[1;32m    710\u001b[0m return_distance \u001b[38;5;241m=\u001b[39m distance_col \u001b[38;5;129;01mis\u001b[39;00m \u001b[38;5;129;01mnot\u001b[39;00m \u001b[38;5;28;01mNone\u001b[39;00m\n\u001b[1;32m    712\u001b[0m indices, distances \u001b[38;5;241m=\u001b[39m _nearest_query(\n\u001b[1;32m    713\u001b[0m     left_df,\n\u001b[1;32m    714\u001b[0m     right_df,\n\u001b[0;32m   (...)\u001b[0m\n\u001b[1;32m    718\u001b[0m     exclusive,\n\u001b[1;32m    719\u001b[0m )\n\u001b[0;32m--> 720\u001b[0m joined, distances \u001b[38;5;241m=\u001b[39m \u001b[43m_frame_join\u001b[49m\u001b[43m(\u001b[49m\n\u001b[1;32m    721\u001b[0m \u001b[43m    \u001b[49m\u001b[43mleft_df\u001b[49m\u001b[43m,\u001b[49m\n\u001b[1;32m    722\u001b[0m \u001b[43m    \u001b[49m\u001b[43mright_df\u001b[49m\u001b[43m,\u001b[49m\n\u001b[1;32m    723\u001b[0m \u001b[43m    \u001b[49m\u001b[43mindices\u001b[49m\u001b[43m,\u001b[49m\n\u001b[1;32m    724\u001b[0m \u001b[43m    \u001b[49m\u001b[43mdistances\u001b[49m\u001b[43m,\u001b[49m\n\u001b[1;32m    725\u001b[0m \u001b[43m    \u001b[49m\u001b[43mhow\u001b[49m\u001b[43m,\u001b[49m\n\u001b[1;32m    726\u001b[0m \u001b[43m    \u001b[49m\u001b[43mlsuffix\u001b[49m\u001b[43m,\u001b[49m\n\u001b[1;32m    727\u001b[0m \u001b[43m    \u001b[49m\u001b[43mrsuffix\u001b[49m\u001b[43m,\u001b[49m\n\u001b[1;32m    728\u001b[0m \u001b[43m    \u001b[49m\u001b[38;5;28;43;01mNone\u001b[39;49;00m\u001b[43m,\u001b[49m\n\u001b[1;32m    729\u001b[0m \u001b[43m\u001b[49m\u001b[43m)\u001b[49m\n\u001b[1;32m    731\u001b[0m \u001b[38;5;28;01mif\u001b[39;00m return_distance:\n\u001b[1;32m    732\u001b[0m     joined[distance_col] \u001b[38;5;241m=\u001b[39m distances\n",
      "File \u001b[0;32m~/repo/project-2-group-real-estate-industry-project-2/.venv/lib/python3.10/site-packages/geopandas/tools/sjoin.py:469\u001b[0m, in \u001b[0;36m_frame_join\u001b[0;34m(left_df, right_df, indices, distances, how, lsuffix, rsuffix, predicate, on_attribute)\u001b[0m\n\u001b[1;32m    467\u001b[0m right_nlevels \u001b[38;5;241m=\u001b[39m right_df\u001b[38;5;241m.\u001b[39mindex\u001b[38;5;241m.\u001b[39mnlevels\n\u001b[1;32m    468\u001b[0m right_index_original \u001b[38;5;241m=\u001b[39m right_df\u001b[38;5;241m.\u001b[39mindex\u001b[38;5;241m.\u001b[39mnames\n\u001b[0;32m--> 469\u001b[0m right_df, right_column_names \u001b[38;5;241m=\u001b[39m \u001b[43m_reset_index_with_suffix\u001b[49m\u001b[43m(\u001b[49m\u001b[43mright_df\u001b[49m\u001b[43m,\u001b[49m\u001b[43m \u001b[49m\u001b[43mrsuffix\u001b[49m\u001b[43m,\u001b[49m\u001b[43m \u001b[49m\u001b[43mleft_df\u001b[49m\u001b[43m)\u001b[49m\n\u001b[1;32m    471\u001b[0m \u001b[38;5;66;03m# if conflicting names in left and right, add suffix\u001b[39;00m\n\u001b[1;32m    472\u001b[0m left_column_names, right_column_names \u001b[38;5;241m=\u001b[39m _process_column_names_with_suffix(\n\u001b[1;32m    473\u001b[0m     left_column_names,\n\u001b[1;32m    474\u001b[0m     right_column_names,\n\u001b[0;32m   (...)\u001b[0m\n\u001b[1;32m    477\u001b[0m     right_df,\n\u001b[1;32m    478\u001b[0m )\n",
      "File \u001b[0;32m~/repo/project-2-group-real-estate-industry-project-2/.venv/lib/python3.10/site-packages/geopandas/tools/sjoin.py:288\u001b[0m, in \u001b[0;36m_reset_index_with_suffix\u001b[0;34m(df, suffix, other)\u001b[0m\n\u001b[1;32m    286\u001b[0m         \u001b[38;5;66;03m# check new label will not be in other dataframe\u001b[39;00m\n\u001b[1;32m    287\u001b[0m         \u001b[38;5;28;01mif\u001b[39;00m new_label \u001b[38;5;129;01min\u001b[39;00m df\u001b[38;5;241m.\u001b[39mcolumns \u001b[38;5;129;01mor\u001b[39;00m new_label \u001b[38;5;129;01min\u001b[39;00m other\u001b[38;5;241m.\u001b[39mcolumns:\n\u001b[0;32m--> 288\u001b[0m             \u001b[38;5;28;01mraise\u001b[39;00m \u001b[38;5;167;01mValueError\u001b[39;00m(\n\u001b[1;32m    289\u001b[0m                 \u001b[38;5;124m\"\u001b[39m\u001b[38;5;124m'\u001b[39m\u001b[38;5;132;01m{0}\u001b[39;00m\u001b[38;5;124m'\u001b[39m\u001b[38;5;124m cannot be a column name in the frames being\u001b[39m\u001b[38;5;124m\"\u001b[39m\n\u001b[1;32m    290\u001b[0m                 \u001b[38;5;124m\"\u001b[39m\u001b[38;5;124m joined\u001b[39m\u001b[38;5;124m\"\u001b[39m\u001b[38;5;241m.\u001b[39mformat(new_label)\n\u001b[1;32m    291\u001b[0m             )\n\u001b[1;32m    292\u001b[0m         column_names[i] \u001b[38;5;241m=\u001b[39m new_label\n\u001b[1;32m    293\u001b[0m \u001b[38;5;28;01mreturn\u001b[39;00m df_reset, pd\u001b[38;5;241m.\u001b[39mIndex(column_names)\n",
      "\u001b[0;31mValueError\u001b[0m: 'index_right' cannot be a column name in the frames being joined"
     ]
    }
   ],
   "source": [
    "import pandas as pd\n",
    "import geopandas as gpd\n",
    "from shapely.geometry import Point\n",
    "city_coords = pd.read_csv(f\"../data/raw/time_city.csv\")\n",
    "gdf_city_coords = gpd.GeoDataFrame(city_coords, geometry=gpd.points_from_xy(city_coords.lng, city_coords.lat))\n",
    "gpd_cleaned_df = gpd.GeoDataFrame(cleaned_df, geometry=gpd.points_from_xy(cleaned_df.lng, cleaned_df.lat))\n",
    "\n",
    "# Ensure both GeoDataFrames have the same CRS (Coordinate Reference System)\n",
    "gdf_city_coords = gdf_city_coords.set_crs(\"EPSG:4326\")\n",
    "gpd_cleaned_df = gpd_cleaned_df.set_crs(\"EPSG:4326\")\n",
    "\n",
    "# Perform the nearest spatial join\n",
    "joined_gdf = gpd.sjoin_nearest(gpd_cleaned_df,gdf_city_coords[['geometry','time_city']], how=\"left\",rsuffix='city_coords')\n",
    "joined_gdf.drop(columns=['index_city_coords'],inplace=True)\n"
   ]
  },
  {
   "cell_type": "code",
   "execution_count": 90,
   "metadata": {},
   "outputs": [
    {
     "name": "stderr",
     "output_type": "stream",
     "text": [
      "/home/even/repo/project-2-group-real-estate-industry-project-2/.venv/lib/python3.10/site-packages/geopandas/array.py:403: UserWarning: Geometry is in a geographic CRS. Results from 'sjoin_nearest' are likely incorrect. Use 'GeoSeries.to_crs()' to re-project geometries to a projected CRS before this operation.\n",
      "\n",
      "  warnings.warn(\n"
     ]
    }
   ],
   "source": []
  },
  {
   "cell_type": "code",
   "execution_count": 91,
   "metadata": {},
   "outputs": [],
   "source": []
  },
  {
   "cell_type": "code",
   "execution_count": 24,
   "metadata": {},
   "outputs": [],
   "source": [
    "unmatched_rows = merged_df[merged_df['ptv_time'].isna()]"
   ]
  },
  {
   "cell_type": "code",
   "execution_count": 33,
   "metadata": {},
   "outputs": [],
   "source": [
    "duplicated_rows = all_ptv[all_ptv.duplicated(subset=['lat', 'lng', 'address'], keep=False)]"
   ]
  },
  {
   "cell_type": "code",
   "execution_count": 36,
   "metadata": {},
   "outputs": [
    {
     "data": {
      "text/plain": [
       "(1860717, 4)"
      ]
     },
     "execution_count": 36,
     "metadata": {},
     "output_type": "execute_result"
    }
   ],
   "source": [
    "all_ptv.drop_duplicates().shape"
   ]
  },
  {
   "cell_type": "code",
   "execution_count": 41,
   "metadata": {},
   "outputs": [],
   "source": [
    "merged_df.to_csv(\"../data/raw/property/rental_data_cleaned_ptv.csv\", index=False)"
   ]
  }
 ],
 "metadata": {
  "kernelspec": {
   "display_name": ".venv",
   "language": "python",
   "name": "python3"
  },
  "language_info": {
   "codemirror_mode": {
    "name": "ipython",
    "version": 3
   },
   "file_extension": ".py",
   "mimetype": "text/x-python",
   "name": "python",
   "nbconvert_exporter": "python",
   "pygments_lexer": "ipython3",
   "version": "3.10.12"
  }
 },
 "nbformat": 4,
 "nbformat_minor": 2
}
