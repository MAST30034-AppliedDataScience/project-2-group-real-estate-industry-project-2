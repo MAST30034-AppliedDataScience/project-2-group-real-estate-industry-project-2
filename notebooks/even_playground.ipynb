{
 "cells": [
  {
   "cell_type": "code",
   "execution_count": 2,
   "metadata": {},
   "outputs": [],
   "source": [
    "import re\n",
    "from json import dump\n",
    "from tqdm import tqdm\n",
    "import time\n",
    "from collections import defaultdict\n",
    "import urllib.request\n",
    "\n",
    "# user packages\n",
    "from bs4 import BeautifulSoup\n",
    "from urllib.request import urlopen, Request"
   ]
  },
  {
   "cell_type": "code",
   "execution_count": 4,
   "metadata": {},
   "outputs": [
    {
     "name": "stdout",
     "output_type": "stream",
     "text": [
      "Visiting https://www.domain.com.au/rent/melbourne-region-vic/?sort=price-desc&page=1\n",
      "Visiting https://www.domain.com.au/rent/melbourne-region-vic/?sort=price-desc&page=2\n",
      "Visiting https://www.domain.com.au/rent/melbourne-region-vic/?sort=price-desc&page=3\n",
      "Visiting https://www.domain.com.au/rent/melbourne-region-vic/?sort=price-desc&page=4\n"
     ]
    }
   ],
   "source": [
    "BASE_URL = \"https://www.domain.com.au\"\n",
    "N_PAGES = range(1, 5) # update this to your liking\n",
    "\n",
    "# begin code\n",
    "url_links = []\n",
    "property_metadata = defaultdict(dict)\n",
    "\n",
    "# generate list of urls to visit\n",
    "for page in N_PAGES:\n",
    "    url = BASE_URL + f\"/rent/melbourne-region-vic/?sort=price-desc&page={page}\"\n",
    "    print(f\"Visiting {url}\")\n",
    "    bs_object = BeautifulSoup(urlopen(Request(url, headers={'User-Agent':\"PostmanRuntime/7.6.0\"})))\n",
    "\n",
    "    # find the unordered list (ul) elements which are the results, then\n",
    "    # find all href (a) tags that are from the base_url website.\n",
    "    index_links = bs_object \\\n",
    "        .find(\n",
    "            \"ul\",\n",
    "            {\"data-testid\": \"results\"}\n",
    "        ) \\\n",
    "        .findAll(\n",
    "            \"a\",\n",
    "            href=re.compile(f\"{BASE_URL}/*\") # the `*` denotes wildcard any\n",
    "        )\n",
    "\n",
    "    for link in index_links:\n",
    "        # if its a property address, add it to the list\n",
    "        if 'address' in link['class']:\n",
    "            url_links.append(link['href'])\n"
   ]
  },
  {
   "cell_type": "code",
   "execution_count": 6,
   "metadata": {},
   "outputs": [
    {
     "data": {
      "text/plain": [
       "80"
      ]
     },
     "execution_count": 6,
     "metadata": {},
     "output_type": "execute_result"
    }
   ],
   "source": [
    "len(url_links)\n"
   ]
  },
  {
   "cell_type": "markdown",
   "metadata": {},
   "source": [
    "https://www.domain.com.au/rent/?ssubs=0&postcode=3053"
   ]
  },
  {
   "cell_type": "code",
   "execution_count": 7,
   "metadata": {},
   "outputs": [],
   "source": [
    "url = BASE_URL+\"/rent/?ssubs=0&postcode=3053\""
   ]
  },
  {
   "cell_type": "code",
   "execution_count": 8,
   "metadata": {},
   "outputs": [],
   "source": [
    "bs_object = BeautifulSoup(urlopen(Request(url, headers={'User-Agent':\"PostmanRuntime/7.6.0\"})))"
   ]
  },
  {
   "cell_type": "code",
   "execution_count": 18,
   "metadata": {},
   "outputs": [
    {
     "data": {
      "text/plain": [
       "168"
      ]
     },
     "execution_count": 18,
     "metadata": {},
     "output_type": "execute_result"
    }
   ],
   "source": [
    "int(bs_object.find_all(\"h1\", {\"class\": \"css-ekkwk0\"})[0].text.split(\" \")[0])"
   ]
  },
  {
   "cell_type": "markdown",
   "metadata": {},
   "source": []
  },
  {
   "cell_type": "code",
   "execution_count": 32,
   "metadata": {},
   "outputs": [],
   "source": [
    "count_dict = {'postcode': [], 'count': []}"
   ]
  },
  {
   "cell_type": "code",
   "execution_count": 33,
   "metadata": {},
   "outputs": [
    {
     "name": "stderr",
     "output_type": "stream",
     "text": [
      "100%|██████████| 996/996 [24:03<00:00,  1.45s/it]\n"
     ]
    }
   ],
   "source": [
    "for postcode in tqdm(range(3000, 3996)):\n",
    "    url = BASE_URL+f\"/rent/?ssubs=0&postcode={postcode}\"\n",
    "    # print(f\"Visiting postcode {postcode}\", end=\" \",flush=True)\n",
    "    bs_object = BeautifulSoup(urlopen(Request(url, headers={'User-Agent':\"PostmanRuntime/7.6.0\"})))\n",
    "    count = int(bs_object.find_all(\"h1\", {\"class\": \"css-ekkwk0\"})[0].text.split(\" \")[0])\n",
    "    count_dict['postcode'].append(postcode)\n",
    "    count_dict['count'].append(count)\n",
    "    # print(f\"Count: {count}\", end=\"\\r\")\n",
    "    time.sleep(1)"
   ]
  },
  {
   "cell_type": "code",
   "execution_count": 31,
   "metadata": {},
   "outputs": [
    {
     "data": {
      "text/plain": [
       "[]"
      ]
     },
     "execution_count": 31,
     "metadata": {},
     "output_type": "execute_result"
    }
   ],
   "source": [
    "count_dict[\"postcode\"]"
   ]
  },
  {
   "cell_type": "code",
   "execution_count": 27,
   "metadata": {},
   "outputs": [
    {
     "data": {
      "text/plain": [
       "117"
      ]
     },
     "execution_count": 27,
     "metadata": {},
     "output_type": "execute_result"
    }
   ],
   "source": [
    "len(count_dict[\"count\"])"
   ]
  },
  {
   "cell_type": "code",
   "execution_count": 22,
   "metadata": {},
   "outputs": [
    {
     "name": "stdout",
     "output_type": "stream",
     "text": [
      "Visiting postcode 0\n",
      "Visiting postcode 1\n",
      "Visiting postcode 2\n",
      "Visiting postcode 3\n"
     ]
    },
    {
     "ename": "KeyboardInterrupt",
     "evalue": "",
     "output_type": "error",
     "traceback": [
      "\u001b[0;31m---------------------------------------------------------------------------\u001b[0m",
      "\u001b[0;31mKeyboardInterrupt\u001b[0m                         Traceback (most recent call last)",
      "Cell \u001b[0;32mIn[22], line 3\u001b[0m\n\u001b[1;32m      1\u001b[0m \u001b[38;5;28;01mfor\u001b[39;00m i \u001b[38;5;129;01min\u001b[39;00m \u001b[38;5;28mrange\u001b[39m(\u001b[38;5;241m10\u001b[39m):\n\u001b[1;32m      2\u001b[0m     \u001b[38;5;28mprint\u001b[39m(\u001b[38;5;124mf\u001b[39m\u001b[38;5;124m\"\u001b[39m\u001b[38;5;124mVisiting postcode \u001b[39m\u001b[38;5;132;01m{\u001b[39;00mi\u001b[38;5;132;01m}\u001b[39;00m\u001b[38;5;124m\"\u001b[39m,flush\u001b[38;5;241m=\u001b[39m\u001b[38;5;28;01mTrue\u001b[39;00m)\n\u001b[0;32m----> 3\u001b[0m     \u001b[43mtime\u001b[49m\u001b[38;5;241;43m.\u001b[39;49m\u001b[43msleep\u001b[49m\u001b[43m(\u001b[49m\u001b[38;5;241;43m1\u001b[39;49m\u001b[43m)\u001b[49m\n\u001b[1;32m      4\u001b[0m     \u001b[38;5;28mprint\u001b[39m(\u001b[38;5;124m\"\u001b[39m\u001b[38;5;124mDone\u001b[39m\u001b[38;5;124m\"\u001b[39m, end\u001b[38;5;241m=\u001b[39m\u001b[38;5;124m\"\u001b[39m\u001b[38;5;130;01m\\r\u001b[39;00m\u001b[38;5;124m\"\u001b[39m)\n",
      "\u001b[0;31mKeyboardInterrupt\u001b[0m: "
     ]
    }
   ],
   "source": [
    "for i in range(10):\n",
    "    print(f\"Visiting postcode {i}\",flush=True)\n",
    "    time.sleep(1)\n",
    "    print(\"Done\", end=\"\\r\")"
   ]
  },
  {
   "cell_type": "code",
   "execution_count": 34,
   "metadata": {},
   "outputs": [],
   "source": [
    "import json\n",
    "out_dir = \"../data/raw/\"\n",
    "with open(out_dir+\"postcode_counts.json\", \"w\") as f:\n",
    "    json.dump(count_dict, f)"
   ]
  },
  {
   "cell_type": "code",
   "execution_count": 1,
   "metadata": {},
   "outputs": [],
   "source": [
    "import pandas as pd\n",
    "import folium\n",
    "import geopandas as gpd\n",
    "\n",
    "postcode_zones = gpd.read_file(\"../data/landing/postcode_zone/POSTCODE_POLYGON.shp\").to_crs(epsg=4326)\n",
    "postcode_count = pd.read_json(\"../data/raw/postcode_counts.json\")"
   ]
  },
  {
   "cell_type": "code",
   "execution_count": null,
   "metadata": {},
   "outputs": [],
   "source": [
    "m = folium.Map(location=[-37.8, 144.97],zoom_start=8)\n",
    "postcode_zones = gpd.read_file(\"../data/landing/postcode_zone/POSTCODE_POLYGON.shp\").to_crs(epsg=4326)\n",
    "geoJSON = postcode_zones[['POSTCODE', 'geometry']].drop_duplicates('POSTCODE').to_json()\n",
    "\n",
    "folium.Choropleth(\n",
    "    geo_data=geoJSON,   \n",
    "    name='choropleth',\n",
    "    data=postcode_count,\n",
    "    columns=[\"postcode\",\"count\"],\n",
    "    key_on=\"properties.POSTCODE\",\n",
    "    fill_color=\"YlGnBu\",\n",
    "    fill_opacity=0.7,\n",
    "    line_opacity=0.3,\n",
    "    legend_name=\"Count of rental properties\"\n",
    ").add_to(m)\n",
    "m\n",
    "# m.save(f\"{PLOT_DIR}arev_effi_zone.html\")"
   ]
  },
  {
   "cell_type": "markdown",
   "metadata": {},
   "source": [
    "## scrape"
   ]
  },
  {
   "cell_type": "code",
   "execution_count": 4,
   "metadata": {},
   "outputs": [],
   "source": [
    "onthehouse_url = \"https://www.onthehouse.com.au/property/vic/carlton-3053/1301-6-leicester-st-carlton-vic-3053-18673607\""
   ]
  },
  {
   "cell_type": "code",
   "execution_count": 5,
   "metadata": {},
   "outputs": [],
   "source": [
    "bs_object = BeautifulSoup(urlopen(Request(onthehouse_url, headers={'User-Agent':\"PostmanRuntime/7.6.0\"})))"
   ]
  },
  {
   "cell_type": "code",
   "execution_count": 17,
   "metadata": {},
   "outputs": [
    {
     "data": {
      "text/plain": [
       "['Sold on 13 Jun 2024 for $511,800', '$511,800', 'Sold for $511,800']"
      ]
     },
     "execution_count": 17,
     "metadata": {},
     "output_type": "execute_result"
    }
   ],
   "source": [
    "import re\n",
    "bs_object.findAll(string=re.compile(\"511,800\"))"
   ]
  },
  {
   "cell_type": "code",
   "execution_count": 16,
   "metadata": {},
   "outputs": [
    {
     "data": {
      "text/plain": [
       "bs4.element.ResultSet"
      ]
     },
     "execution_count": 16,
     "metadata": {},
     "output_type": "execute_result"
    }
   ],
   "source": [
    "type(k)"
   ]
  }
 ],
 "metadata": {
  "kernelspec": {
   "display_name": ".venv",
   "language": "python",
   "name": "python3"
  },
  "language_info": {
   "codemirror_mode": {
    "name": "ipython",
    "version": 3
   },
   "file_extension": ".py",
   "mimetype": "text/x-python",
   "name": "python",
   "nbconvert_exporter": "python",
   "pygments_lexer": "ipython3",
   "version": "3.10.12"
  }
 },
 "nbformat": 4,
 "nbformat_minor": 2
}
